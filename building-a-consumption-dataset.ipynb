{
 "cells": [
  {
   "cell_type": "markdown",
   "source": [
    "# Creating the consumption dataset\n",
    "For water ticket # WAT-115: Water Use Survey\n",
    "\n",
    "Will requested that I provide the volume in gallons per connection type per year in addition to the counts I provided previously.\n",
    "\n",
    "*See [Ticket WAT-115](https://georgetowntx.atlassian.net/jira/servicedesk/projects/WAT/queues/custom/378/WAT-115)*"
   ],
   "metadata": {
    "collapsed": false
   },
   "id": "99ffea8e79755b5f"
  },
  {
   "cell_type": "code",
   "execution_count": 1,
   "outputs": [],
   "source": [
    "# Dependencies\n",
    "import datetime\n",
    "import gc\n",
    "import pandas as pd\n",
    "from src.pymax import umax2012"
   ],
   "metadata": {
    "collapsed": false,
    "ExecuteTime": {
     "end_time": "2024-02-09T16:13:00.103648600Z",
     "start_time": "2024-02-09T16:12:58.307950600Z"
    }
   },
   "id": "e9d81f193766c06e"
  },
  {
   "cell_type": "markdown",
   "source": [
    "## Querying data from UMAX 2012\n",
    "\n",
    "First, we need to collect data from UMAX 2012 since the 2023 billing/consumption data is now split between two databases...\n",
    "\n",
    "I have developed a custom python package for working with our UMAX CIS called pymax that is used in this notebook."
   ],
   "metadata": {
    "collapsed": false
   },
   "id": "310f4155bbfdab74"
  },
  {
   "cell_type": "markdown",
   "source": [
    "### Creating the 2012 bill line fact dataset\n",
    "\n",
    "In this section, I have used the pymax package to extract 2023 bill line data for all water bills with a volumetric unit.\n",
    "\n",
    "This code is provided for posterity, but should not be run unless a resulting '<timestamp>-umax2012-fact-bln.csv' file is not present as it the runtime is very high.\n",
    "\n",
    "This is an issue with the bi database in 2012, the views are extremely unoptimized."
   ],
   "metadata": {
    "collapsed": false
   },
   "id": "2fc55789da93c3bd"
  },
  {
   "cell_type": "code",
   "execution_count": 14,
   "outputs": [
    {
     "ename": "TypeError",
     "evalue": "query_db() got an unexpected keyword argument 'output'",
     "output_type": "error",
     "traceback": [
      "\u001B[1;31m---------------------------------------------------------------------------\u001B[0m",
      "\u001B[1;31mTypeError\u001B[0m                                 Traceback (most recent call last)",
      "Cell \u001B[1;32mIn[14], line 14\u001B[0m\n\u001B[0;32m      3\u001B[0m bi_query \u001B[38;5;241m=\u001B[39m \u001B[38;5;124m'''\u001B[39m\n\u001B[0;32m      4\u001B[0m \u001B[38;5;124m    SELECT contract_key\u001B[39m\n\u001B[0;32m      5\u001B[0m \u001B[38;5;124m        , documentdate_key\u001B[39m\n\u001B[1;32m   (...)\u001B[0m\n\u001B[0;32m     11\u001B[0m \u001B[38;5;124m    GROUP BY contract_key, documentdate_key\u001B[39m\n\u001B[0;32m     12\u001B[0m \u001B[38;5;124m'''\u001B[39m\n\u001B[0;32m     13\u001B[0m \u001B[38;5;66;03m# bi_query = 'select top 10 * from vw_BillLine'\u001B[39;00m\n\u001B[1;32m---> 14\u001B[0m df \u001B[38;5;241m=\u001B[39m umax2012\u001B[38;5;241m.\u001B[39mquery_db(\u001B[38;5;124m'\u001B[39m\u001B[38;5;124mumax_bi_ext_prod\u001B[39m\u001B[38;5;124m'\u001B[39m, bi_query, output\u001B[38;5;241m=\u001B[39m\u001B[38;5;124m'\u001B[39m\u001B[38;5;124mDataFrame\u001B[39m\u001B[38;5;124m'\u001B[39m)\n",
      "\u001B[1;31mTypeError\u001B[0m: query_db() got an unexpected keyword argument 'output'"
     ]
    }
   ],
   "source": [
    "# WARNING QUERY TAKES ~12-15 MINUTES TO RUN!!! RECOMMEND USING CSV FLAT FILE!!!\n",
    "# Querying the 2012 bi database for kgals of consumption by contract.\n",
    "fact_name = 'bln'\n",
    "bi_query = '''\n",
    "    SELECT DocumentDateKey\n",
    "        , Contract_key\n",
    "        , Premises_Key\n",
    "        , Customer_Key\n",
    "        , Service_Key\n",
    "        , sum(linequantity) AS kgals\n",
    "    FROM vw_BillLine\n",
    "    WHERE billingclassification = 'water'\n",
    "    AND unit = 'kgal'\n",
    "    AND LEFT(CONVERT(VARCHAR(8), DOCUMENTDATE_KEY), 4) = '2023'\n",
    "    GROUP BY DocumentDate_key\n",
    "        , Contract_Key\n",
    "        , Premises_Key\n",
    "        , Customer_Key\n",
    "        , Service_Key\n",
    "'''\n",
    "\n",
    "df = umax2012.query_db('umax_bi_ext_prod', bi_query, output='DataFrame')"
   ],
   "metadata": {
    "collapsed": false,
    "ExecuteTime": {
     "end_time": "2024-02-06T18:33:44.030240800Z",
     "start_time": "2024-02-06T18:33:44.011090700Z"
    }
   },
   "id": "6235b573cc9b3fa6"
  },
  {
   "cell_type": "code",
   "execution_count": 11,
   "outputs": [],
   "source": [
    "# write out file to csv for future use in the 'data/raw' directory.\n",
    "current_timestamp = datetime.datetime.now()\n",
    "formatted_timestamp = current_timestamp.strftime(\"%Y%m%d-%H%M%S\")\n",
    "df.to_csv(f'../data/raw/{formatted_timestamp}-umax2012-fact-{fact_name}.csv', index=False)"
   ],
   "metadata": {
    "collapsed": false,
    "ExecuteTime": {
     "end_time": "2024-02-06T18:32:38.017007400Z",
     "start_time": "2024-02-06T18:32:37.435861200Z"
    }
   },
   "id": "8904409f7c4f02db"
  },
  {
   "cell_type": "code",
   "execution_count": 12,
   "outputs": [
    {
     "data": {
      "text/plain": "1776"
     },
     "execution_count": 12,
     "metadata": {},
     "output_type": "execute_result"
    }
   ],
   "source": [
    "# remove the reference to the dataframe object and trigger garbage collection to reclaim memory\n",
    "del df\n",
    "gc.collect()"
   ],
   "metadata": {
    "collapsed": false,
    "ExecuteTime": {
     "end_time": "2024-02-06T18:33:15.786748900Z",
     "start_time": "2024-02-06T18:33:15.713964800Z"
    }
   },
   "id": "5c46c3ac5287fc56"
  },
  {
   "cell_type": "markdown",
   "source": [
    "This marks the end of the code that should only be run if the flat file is missing.  \n",
    "\n",
    "---"
   ],
   "metadata": {
    "collapsed": false
   },
   "id": "1e8f47369fb92081"
  },
  {
   "cell_type": "markdown",
   "source": [
    "## Collecting metadata\n",
    "In this section we will extract metadata from both the 2012 and 365 databases. This metadata will include the following:\n",
    "- Contract data\n",
    "- Premises data\n",
    "- Customer data\n",
    "- Service data\n",
    "\n",
    "Each of these datasets will be dimensional to our fact table, observe the relationship diagram below\n",
    "\n",
    "```plaintext\n",
    "┌───────────────┐      1:n┌─────────────┐\n",
    "│FACT: BillLine │    ┌────┤DIM: Customer│\n",
    "└───────▲───────┘    │    └─────────────┘\n",
    "        │            │\n",
    "        │            │\n",
    "┌───────┴───────┐    │ 1:n┌─────────────┐\n",
    "│ DIM: Contract ◄────┼────┤DIM: Premises│\n",
    "└───────────────┘    │    └─────────────┘\n",
    "                     │\n",
    "                     │\n",
    "                     │ 1:n┌─────────────┐\n",
    "                     └────┤DIM: Service │\n",
    "                          └─────────────┘\n",
    "```"
   ],
   "metadata": {
    "collapsed": false
   },
   "id": "6375ab038263e866"
  },
  {
   "cell_type": "markdown",
   "source": [
    "### Dimensional dataset workflows - 2012"
   ],
   "metadata": {
    "collapsed": false
   },
   "id": "9708ed95de61d551"
  },
  {
   "cell_type": "code",
   "execution_count": 11,
   "outputs": [],
   "source": [
    "fact_df = pd.read_csv('../data/raw/20240206-123237-umax2012-fact-bln.csv')"
   ],
   "metadata": {
    "collapsed": false,
    "ExecuteTime": {
     "end_time": "2024-02-09T21:04:05.016368300Z",
     "start_time": "2024-02-09T21:04:04.889583800Z"
    }
   },
   "id": "2b887db0aa25ceb8"
  },
  {
   "cell_type": "markdown",
   "source": [
    "### Contract"
   ],
   "metadata": {
    "collapsed": false
   },
   "id": "b58fe807e970beeb"
  },
  {
   "cell_type": "code",
   "execution_count": 95,
   "outputs": [],
   "source": [
    "# Creating the Contract dimensional dataset from 2012\n",
    "dim_name = 'ctr'\n",
    "\n",
    "query ='''\n",
    "SELECT Contract_key\n",
    "\t, Product\n",
    "\t, AGR_StartDate\n",
    "\t, AGR_EndDate\n",
    "\t, Premises_key\n",
    "\t, Customer_key\n",
    "\t, Service_key\n",
    "FROM vw_Contract \n",
    "WHERE billingclassification = 'Water'\n",
    "AND StatementBasis LIKE 'consumption%'\n",
    "'''\n",
    "\n",
    "ctr_df = umax2012.query_db('UMAX_BI_EXT_PROD', query, output='DataFrame')"
   ],
   "metadata": {
    "collapsed": false,
    "ExecuteTime": {
     "end_time": "2024-02-12T15:15:25.886088300Z",
     "start_time": "2024-02-12T15:12:22.021066400Z"
    }
   },
   "id": "3bd6140826d0b1a7"
  },
  {
   "cell_type": "code",
   "execution_count": 97,
   "outputs": [],
   "source": [
    "# write to flat file for storage.\n",
    "current_timestamp = datetime.datetime.now()\n",
    "formatted_timestamp = current_timestamp.strftime(\"%Y%m%d-%H%M%S\")\n",
    "ctr_df.to_csv(f'../data/raw/{formatted_timestamp}-umax2012-dim-{dim_name}.csv', index=False)"
   ],
   "metadata": {
    "collapsed": false,
    "ExecuteTime": {
     "end_time": "2024-02-12T15:19:13.110384100Z",
     "start_time": "2024-02-12T15:19:12.670228400Z"
    }
   },
   "id": "35772b3996d8e678"
  },
  {
   "cell_type": "markdown",
   "source": [
    "#### Premises"
   ],
   "metadata": {
    "collapsed": false
   },
   "id": "a0a98cf1ce8f454e"
  },
  {
   "cell_type": "code",
   "execution_count": 99,
   "outputs": [],
   "source": [
    "# Creating the Premises dimensional dataset from 2012\n",
    "dim_name = 'prm'\n",
    "query = '''\n",
    "SELECT Premises_Key\n",
    "\t, PREM_Type\n",
    "\t, CityLimit\n",
    "\t, ExtraTerritorialJurisdictionalBoundary\n",
    "FROM vw_Premises\n",
    "WHERE Premises_Key IN (\n",
    "    SELECT Premises_Key\n",
    "    FROM vw_Contract\n",
    "    WHERE BillingClassification = 'Water'\n",
    ");\n",
    "'''\n",
    "\n",
    "prm_df = umax2012.query_db('UMAX_BI_EXT_PROD', query, output='DataFrame')"
   ],
   "metadata": {
    "collapsed": false,
    "ExecuteTime": {
     "end_time": "2024-02-12T15:20:27.887044900Z",
     "start_time": "2024-02-12T15:20:00.050031Z"
    }
   },
   "id": "930798ceb9a6ddef"
  },
  {
   "cell_type": "code",
   "execution_count": 100,
   "outputs": [],
   "source": [
    "# write to flat file for storage.\n",
    "current_timestamp = datetime.datetime.now()\n",
    "formatted_timestamp = current_timestamp.strftime(\"%Y%m%d-%H%M%S\")\n",
    "prm_df.to_csv(f'../data/raw/{formatted_timestamp}-umax2012-dim-{dim_name}.csv', index=False)"
   ],
   "metadata": {
    "collapsed": false,
    "ExecuteTime": {
     "end_time": "2024-02-12T15:20:28.008747600Z",
     "start_time": "2024-02-12T15:20:27.889045900Z"
    }
   },
   "id": "d1598c68573fa773"
  },
  {
   "cell_type": "markdown",
   "source": [
    "### Customer"
   ],
   "metadata": {
    "collapsed": false
   },
   "id": "b678bd87a9ff59b2"
  },
  {
   "cell_type": "code",
   "execution_count": 101,
   "outputs": [],
   "source": [
    "# Creating the Customer dimensional dataset from 2012\n",
    "dim_name = 'cus'\n",
    "query = '''\n",
    "SELECT Customer_Key\n",
    "\t, CustomerGroup\n",
    "FROM vw_Customer\n",
    "WHERE Customer_Key IN (\n",
    "    SELECT Customer_Key\n",
    "    FROM vw_Contract\n",
    "    WHERE BillingClassification = 'Water'\n",
    ");\n",
    "'''\n",
    "\n",
    "cus_df = umax2012.query_db('UMAX_BI_EXT_PROD', query, output='DataFrame')"
   ],
   "metadata": {
    "collapsed": false,
    "ExecuteTime": {
     "end_time": "2024-02-12T15:21:29.723916200Z",
     "start_time": "2024-02-12T15:20:28.011746900Z"
    }
   },
   "id": "13c81e79fdded603"
  },
  {
   "cell_type": "code",
   "execution_count": 102,
   "outputs": [],
   "source": [
    "# write to flat file for storage.\n",
    "current_timestamp = datetime.datetime.now()\n",
    "formatted_timestamp = current_timestamp.strftime(\"%Y%m%d-%H%M%S\")\n",
    "cus_df.to_csv(f'../data/raw/{formatted_timestamp}-umax2012-dim-{dim_name}.csv', index=False)"
   ],
   "metadata": {
    "collapsed": false,
    "ExecuteTime": {
     "end_time": "2024-02-12T15:21:29.871141300Z",
     "start_time": "2024-02-12T15:21:29.726916900Z"
    }
   },
   "id": "bcdf39cd81c073f8"
  },
  {
   "cell_type": "markdown",
   "source": [
    "### Service"
   ],
   "metadata": {
    "collapsed": false
   },
   "id": "8932adbf535c3c93"
  },
  {
   "cell_type": "code",
   "execution_count": 169,
   "outputs": [],
   "source": [
    "# Creating the Service dimensional dataset from 2012\n",
    "dim_name = 'srv'\n",
    "query = '''\n",
    "SELECT Service_Key\n",
    "\t, SERV_Type\n",
    "\t, SERV_County\n",
    "FROM vw_Service\n",
    "WHERE SERV_DeliveryType = 'Water';\n",
    "'''\n",
    "srv_df = umax2012.query_db('UMAX_BI_EXT_PROD', query, output='DataFrame')"
   ],
   "metadata": {
    "collapsed": false,
    "ExecuteTime": {
     "end_time": "2024-02-12T18:19:05.705375Z",
     "start_time": "2024-02-12T18:15:36.271462400Z"
    }
   },
   "id": "f7c9f4c4a8a6c3a"
  },
  {
   "cell_type": "code",
   "execution_count": 170,
   "outputs": [],
   "source": [
    "# write to flat file for storage.\n",
    "current_timestamp = datetime.datetime.now()\n",
    "formatted_timestamp = current_timestamp.strftime(\"%Y%m%d-%H%M%S\")\n",
    "srv_df.to_csv(f'../data/raw/{formatted_timestamp}-umax2012-dim-{dim_name}.csv', index=False)"
   ],
   "metadata": {
    "collapsed": false,
    "ExecuteTime": {
     "end_time": "2024-02-12T18:21:34.384824300Z",
     "start_time": "2024-02-12T18:21:34.310279600Z"
    }
   },
   "id": "18bf6c239626eb9d"
  },
  {
   "cell_type": "markdown",
   "source": [
    "## BYOD data\n",
    "First, we must instantiate the engine and session for our queries. This currently requires MFA."
   ],
   "metadata": {
    "collapsed": false
   },
   "id": "235ff251719a1cd7"
  },
  {
   "cell_type": "code",
   "execution_count": 110,
   "outputs": [],
   "source": [
    "# Dependencies\n",
    "from sqlalchemy import text\n",
    "from sqlalchemy.orm import sessionmaker\n",
    "from src.pymax import umax365"
   ],
   "metadata": {
    "collapsed": false,
    "ExecuteTime": {
     "end_time": "2024-02-12T17:38:29.953234200Z",
     "start_time": "2024-02-12T17:38:29.946722800Z"
    }
   },
   "id": "a2ef92b3378376f5"
  },
  {
   "cell_type": "code",
   "execution_count": 107,
   "outputs": [],
   "source": [
    "engine = umax365.create_byod_engine()\n",
    "\n",
    "Session = sessionmaker(bind=engine)\n",
    "session = Session()"
   ],
   "metadata": {
    "collapsed": false,
    "ExecuteTime": {
     "end_time": "2024-02-12T17:18:06.531796100Z",
     "start_time": "2024-02-12T17:18:06.518751100Z"
    }
   },
   "id": "7d0d1370bc4ed78f"
  },
  {
   "cell_type": "markdown",
   "source": [
    "## Constructing the 365 BYOD fact dataset"
   ],
   "metadata": {
    "collapsed": false
   },
   "id": "cf2dcbc1c726203f"
  },
  {
   "cell_type": "code",
   "execution_count": 111,
   "outputs": [],
   "source": [
    "# Due to drastically increased performance of the BYOD database, we will simply join all relevant attributes in a single query.\n",
    "fact_name = 'bln'\n",
    "bln_query = '''\n",
    "    SELECT bln.DOCUMENTDATE\n",
    "        , bln.CONTRACT_KEY\n",
    "        , ctr.PRODUCT\n",
    "        , prm.EXTPROPERTY_VALUE as PREMTYPE\n",
    "        , cus.CUSTOMERGROUP\n",
    "        , srv.SERV_COUNTY\n",
    "        , SUM(bln.LINEQUANTITY) AS kgals\n",
    "    FROM LNA_BIV_BillLine AS bln\n",
    "    JOIN LNA_BIV_Contract AS ctr\n",
    "    ON bln.CONTRACT_KEY = ctr.CONTRACT_KEY\n",
    "    JOIN LNA_BIV_ExtProperty AS prm\n",
    "    ON bln.PREMISES_KEY = prm.RELATEDTABLE_KEY \n",
    "        AND RELATEDTABLE_NAME = 'LNA_BIV_Premises' \n",
    "        AND EXTPROPERTY = 'PREMTYPE'\n",
    "    JOIN LNA_BIV_Customer AS cus\n",
    "    ON bln.CUSTOMER_KEY = cus.CUSTOMER_KEY\n",
    "    JOIN LNA_BIV_Service AS srv\n",
    "    ON bln.SERVICE_KEY = srv.SERVICE_KEY\n",
    "    \n",
    "    WHERE bln.BILLINGCLASSIFICATION = 'Water'\n",
    "    AND bln.UNIT = 'kgal'\n",
    "    \n",
    "    GROUP BY bln.DOCUMENTDATE\n",
    "        , bln.CONTRACT_KEY\n",
    "        , ctr.PRODUCT\n",
    "        , prm.EXTPROPERTY_VALUE\n",
    "        , cus.CUSTOMERGROUP\n",
    "        , srv.SERV_COUNTY\n",
    "    \n",
    "    ORDER BY bln.DOCUMENTDATE\n",
    "'''\n",
    "\n",
    "bln_result = session.execute(text(bln_query))\n",
    "bln_df = pd.DataFrame(bln_result.fetchall(), columns=bln_result.keys())\n",
    "\n",
    "# write out file to csv for future use in the 'data/raw' directory.\n",
    "current_timestamp = datetime.datetime.now()\n",
    "formatted_timestamp = current_timestamp.strftime(\"%Y%m%d-%H%M%S\")\n",
    "bln_df.to_csv(f'../data/raw/{formatted_timestamp}-umax365-fact-{fact_name}.csv', index=False)"
   ],
   "metadata": {
    "collapsed": false,
    "ExecuteTime": {
     "end_time": "2024-02-12T17:39:27.971833700Z",
     "start_time": "2024-02-12T17:39:07.074816700Z"
    }
   },
   "id": "ad5772ee9bc8976d"
  },
  {
   "cell_type": "code",
   "execution_count": 113,
   "outputs": [
    {
     "name": "stdout",
     "output_type": "stream",
     "text": [
      "<class 'pandas.core.frame.DataFrame'>\n",
      "RangeIndex: 262007 entries, 0 to 262006\n",
      "Data columns (total 7 columns):\n",
      " #   Column         Non-Null Count   Dtype         \n",
      "---  ------         --------------   -----         \n",
      " 0   DOCUMENTDATE   262007 non-null  datetime64[ns]\n",
      " 1   CONTRACT_KEY   262007 non-null  int64         \n",
      " 2   PRODUCT        262007 non-null  object        \n",
      " 3   PREMTYPE       262007 non-null  object        \n",
      " 4   CUSTOMERGROUP  262007 non-null  object        \n",
      " 5   SERV_COUNTY    262007 non-null  object        \n",
      " 6   kgals          262007 non-null  object        \n",
      "dtypes: datetime64[ns](1), int64(1), object(5)\n",
      "memory usage: 14.0+ MB\n"
     ]
    }
   ],
   "source": [
    "bln_df.info()"
   ],
   "metadata": {
    "collapsed": false,
    "ExecuteTime": {
     "end_time": "2024-02-12T17:41:57.581052600Z",
     "start_time": "2024-02-12T17:41:57.498142700Z"
    }
   },
   "id": "4a69ff58d4b67ec8"
  },
  {
   "cell_type": "code",
   "execution_count": 114,
   "outputs": [],
   "source": [
    "# We must now close the result and session to properly manage the connection pool and avoid memory leaks.\n",
    "bln_result.close()\n",
    "session.close()"
   ],
   "metadata": {
    "collapsed": false,
    "ExecuteTime": {
     "end_time": "2024-02-12T17:42:52.906926700Z",
     "start_time": "2024-02-12T17:42:52.854234300Z"
    }
   },
   "id": "e7d2609b3e4726c"
  },
  {
   "cell_type": "markdown",
   "source": [
    "## Building the final dataset\n",
    "\n",
    "Now that we have extracted data from both databases, we will now need to do the following steps:\n",
    "\n",
    "1. Join the 2012 data to match the format of our BYOD query\n",
    "2. Concatenate the BYOD dataset to our resulting 2012 dataset\n",
    "3. Introduce the required logic to derive customer classes and summarize the data"
   ],
   "metadata": {
    "collapsed": false
   },
   "id": "740d05505a82c27"
  },
  {
   "cell_type": "markdown",
   "source": [
    "### Joining the 2012 results into a combined dataset"
   ],
   "metadata": {
    "collapsed": false
   },
   "id": "25fc1b080d5602b8"
  },
  {
   "cell_type": "code",
   "execution_count": 183,
   "outputs": [],
   "source": [
    "dtypes = {'contract': object, 'documentdate_key': object, 'kgal': float}\n",
    "df = pd.read_csv('../data/raw/20240206-123237-umax2012-fact-bln.csv', names=dtypes.keys(), dtype = dtypes, header=0)"
   ],
   "metadata": {
    "collapsed": false,
    "ExecuteTime": {
     "end_time": "2024-02-12T18:37:54.836028800Z",
     "start_time": "2024-02-12T18:37:54.584424500Z"
    }
   },
   "id": "8cddd2fecf7070e"
  },
  {
   "cell_type": "code",
   "execution_count": 184,
   "outputs": [
    {
     "data": {
      "text/plain": "     contract documentdate_key  kgal\n0  5637634178         20230531   4.0\n1  5637875138         20230531   2.0\n2  5637740937         20230112   2.0\n3  5637768335         20230602   2.0\n4  5637720913         20230112   2.0",
      "text/html": "<div>\n<style scoped>\n    .dataframe tbody tr th:only-of-type {\n        vertical-align: middle;\n    }\n\n    .dataframe tbody tr th {\n        vertical-align: top;\n    }\n\n    .dataframe thead th {\n        text-align: right;\n    }\n</style>\n<table border=\"1\" class=\"dataframe\">\n  <thead>\n    <tr style=\"text-align: right;\">\n      <th></th>\n      <th>contract</th>\n      <th>documentdate_key</th>\n      <th>kgal</th>\n    </tr>\n  </thead>\n  <tbody>\n    <tr>\n      <th>0</th>\n      <td>5637634178</td>\n      <td>20230531</td>\n      <td>4.0</td>\n    </tr>\n    <tr>\n      <th>1</th>\n      <td>5637875138</td>\n      <td>20230531</td>\n      <td>2.0</td>\n    </tr>\n    <tr>\n      <th>2</th>\n      <td>5637740937</td>\n      <td>20230112</td>\n      <td>2.0</td>\n    </tr>\n    <tr>\n      <th>3</th>\n      <td>5637768335</td>\n      <td>20230602</td>\n      <td>2.0</td>\n    </tr>\n    <tr>\n      <th>4</th>\n      <td>5637720913</td>\n      <td>20230112</td>\n      <td>2.0</td>\n    </tr>\n  </tbody>\n</table>\n</div>"
     },
     "execution_count": 184,
     "metadata": {},
     "output_type": "execute_result"
    }
   ],
   "source": [
    "df.head()"
   ],
   "metadata": {
    "collapsed": false,
    "ExecuteTime": {
     "end_time": "2024-02-12T18:37:55.342842200Z",
     "start_time": "2024-02-12T18:37:55.324284800Z"
    }
   },
   "id": "d439ca63bfa06815"
  },
  {
   "cell_type": "code",
   "execution_count": 185,
   "outputs": [],
   "source": [
    "df['doc_date'] = pd.to_datetime(df.documentdate_key, format='%Y%m%d')"
   ],
   "metadata": {
    "collapsed": false,
    "ExecuteTime": {
     "end_time": "2024-02-12T18:37:56.165147900Z",
     "start_time": "2024-02-12T18:37:56.126506700Z"
    }
   },
   "id": "42e55b9ca3461e89"
  },
  {
   "cell_type": "code",
   "execution_count": 186,
   "outputs": [
    {
     "data": {
      "text/plain": "     contract documentdate_key  kgal   doc_date\n0  5637634178         20230531   4.0 2023-05-31\n1  5637875138         20230531   2.0 2023-05-31\n2  5637740937         20230112   2.0 2023-01-12\n3  5637768335         20230602   2.0 2023-06-02\n4  5637720913         20230112   2.0 2023-01-12",
      "text/html": "<div>\n<style scoped>\n    .dataframe tbody tr th:only-of-type {\n        vertical-align: middle;\n    }\n\n    .dataframe tbody tr th {\n        vertical-align: top;\n    }\n\n    .dataframe thead th {\n        text-align: right;\n    }\n</style>\n<table border=\"1\" class=\"dataframe\">\n  <thead>\n    <tr style=\"text-align: right;\">\n      <th></th>\n      <th>contract</th>\n      <th>documentdate_key</th>\n      <th>kgal</th>\n      <th>doc_date</th>\n    </tr>\n  </thead>\n  <tbody>\n    <tr>\n      <th>0</th>\n      <td>5637634178</td>\n      <td>20230531</td>\n      <td>4.0</td>\n      <td>2023-05-31</td>\n    </tr>\n    <tr>\n      <th>1</th>\n      <td>5637875138</td>\n      <td>20230531</td>\n      <td>2.0</td>\n      <td>2023-05-31</td>\n    </tr>\n    <tr>\n      <th>2</th>\n      <td>5637740937</td>\n      <td>20230112</td>\n      <td>2.0</td>\n      <td>2023-01-12</td>\n    </tr>\n    <tr>\n      <th>3</th>\n      <td>5637768335</td>\n      <td>20230602</td>\n      <td>2.0</td>\n      <td>2023-06-02</td>\n    </tr>\n    <tr>\n      <th>4</th>\n      <td>5637720913</td>\n      <td>20230112</td>\n      <td>2.0</td>\n      <td>2023-01-12</td>\n    </tr>\n  </tbody>\n</table>\n</div>"
     },
     "execution_count": 186,
     "metadata": {},
     "output_type": "execute_result"
    }
   ],
   "source": [
    "df.head()"
   ],
   "metadata": {
    "collapsed": false,
    "ExecuteTime": {
     "end_time": "2024-02-12T18:37:56.967233900Z",
     "start_time": "2024-02-12T18:37:56.901432300Z"
    }
   },
   "id": "64ff757f81a33c"
  },
  {
   "cell_type": "code",
   "execution_count": 187,
   "outputs": [
    {
     "data": {
      "text/plain": "     contract   doc_date documentdate_key  kgal\n0  5637634178 2023-05-31         20230531   4.0\n1  5637875138 2023-05-31         20230531   2.0\n2  5637740937 2023-01-12         20230112   2.0\n3  5637768335 2023-06-02         20230602   2.0\n4  5637720913 2023-01-12         20230112   2.0",
      "text/html": "<div>\n<style scoped>\n    .dataframe tbody tr th:only-of-type {\n        vertical-align: middle;\n    }\n\n    .dataframe tbody tr th {\n        vertical-align: top;\n    }\n\n    .dataframe thead th {\n        text-align: right;\n    }\n</style>\n<table border=\"1\" class=\"dataframe\">\n  <thead>\n    <tr style=\"text-align: right;\">\n      <th></th>\n      <th>contract</th>\n      <th>doc_date</th>\n      <th>documentdate_key</th>\n      <th>kgal</th>\n    </tr>\n  </thead>\n  <tbody>\n    <tr>\n      <th>0</th>\n      <td>5637634178</td>\n      <td>2023-05-31</td>\n      <td>20230531</td>\n      <td>4.0</td>\n    </tr>\n    <tr>\n      <th>1</th>\n      <td>5637875138</td>\n      <td>2023-05-31</td>\n      <td>20230531</td>\n      <td>2.0</td>\n    </tr>\n    <tr>\n      <th>2</th>\n      <td>5637740937</td>\n      <td>2023-01-12</td>\n      <td>20230112</td>\n      <td>2.0</td>\n    </tr>\n    <tr>\n      <th>3</th>\n      <td>5637768335</td>\n      <td>2023-06-02</td>\n      <td>20230602</td>\n      <td>2.0</td>\n    </tr>\n    <tr>\n      <th>4</th>\n      <td>5637720913</td>\n      <td>2023-01-12</td>\n      <td>20230112</td>\n      <td>2.0</td>\n    </tr>\n  </tbody>\n</table>\n</div>"
     },
     "execution_count": 187,
     "metadata": {},
     "output_type": "execute_result"
    }
   ],
   "source": [
    "column = df.pop('doc_date')\n",
    "df.insert(1, column.name, column)\n",
    "df.head()"
   ],
   "metadata": {
    "collapsed": false,
    "ExecuteTime": {
     "end_time": "2024-02-12T18:37:57.948301200Z",
     "start_time": "2024-02-12T18:37:57.932550800Z"
    }
   },
   "id": "7ceae425d1715b74"
  },
  {
   "cell_type": "code",
   "execution_count": 188,
   "outputs": [],
   "source": [
    "df.drop('documentdate_key', axis=1, inplace=True)"
   ],
   "metadata": {
    "collapsed": false,
    "ExecuteTime": {
     "end_time": "2024-02-12T18:37:58.823330200Z",
     "start_time": "2024-02-12T18:37:58.802030400Z"
    }
   },
   "id": "6e5cce7a930e1712"
  },
  {
   "cell_type": "code",
   "execution_count": 189,
   "outputs": [
    {
     "data": {
      "text/plain": "     contract   doc_date  kgal\n0  5637634178 2023-05-31   4.0\n1  5637875138 2023-05-31   2.0\n2  5637740937 2023-01-12   2.0\n3  5637768335 2023-06-02   2.0\n4  5637720913 2023-01-12   2.0",
      "text/html": "<div>\n<style scoped>\n    .dataframe tbody tr th:only-of-type {\n        vertical-align: middle;\n    }\n\n    .dataframe tbody tr th {\n        vertical-align: top;\n    }\n\n    .dataframe thead th {\n        text-align: right;\n    }\n</style>\n<table border=\"1\" class=\"dataframe\">\n  <thead>\n    <tr style=\"text-align: right;\">\n      <th></th>\n      <th>contract</th>\n      <th>doc_date</th>\n      <th>kgal</th>\n    </tr>\n  </thead>\n  <tbody>\n    <tr>\n      <th>0</th>\n      <td>5637634178</td>\n      <td>2023-05-31</td>\n      <td>4.0</td>\n    </tr>\n    <tr>\n      <th>1</th>\n      <td>5637875138</td>\n      <td>2023-05-31</td>\n      <td>2.0</td>\n    </tr>\n    <tr>\n      <th>2</th>\n      <td>5637740937</td>\n      <td>2023-01-12</td>\n      <td>2.0</td>\n    </tr>\n    <tr>\n      <th>3</th>\n      <td>5637768335</td>\n      <td>2023-06-02</td>\n      <td>2.0</td>\n    </tr>\n    <tr>\n      <th>4</th>\n      <td>5637720913</td>\n      <td>2023-01-12</td>\n      <td>2.0</td>\n    </tr>\n  </tbody>\n</table>\n</div>"
     },
     "execution_count": 189,
     "metadata": {},
     "output_type": "execute_result"
    }
   ],
   "source": [
    "df.head()"
   ],
   "metadata": {
    "collapsed": false,
    "ExecuteTime": {
     "end_time": "2024-02-12T18:37:59.599133300Z",
     "start_time": "2024-02-12T18:37:59.560781900Z"
    }
   },
   "id": "303eee1b84cccae3"
  },
  {
   "cell_type": "code",
   "execution_count": 190,
   "outputs": [],
   "source": [
    "dtypes = {'contract': object, 'product': str, 'startdate': object, 'enddate': object, 'premises': object, 'customer': object, 'service': object}\n",
    "dim_ctr = pd.read_csv('../data/raw/20240212-091912-umax2012-dim-ctr.csv', names=dtypes.keys(), dtype=dtypes, header=0)"
   ],
   "metadata": {
    "collapsed": false,
    "ExecuteTime": {
     "end_time": "2024-02-12T18:38:00.416487900Z",
     "start_time": "2024-02-12T18:38:00.230250400Z"
    }
   },
   "id": "2fcbfa8363835156"
  },
  {
   "cell_type": "code",
   "execution_count": 191,
   "outputs": [
    {
     "data": {
      "text/plain": "     contract product   startdate     enddate    premises    customer  \\\n0  5637152847   Water  2014-07-17         NaN  5637148436  5637150306   \n1  5637152868   Water  2016-12-28         NaN  5637187276  5637201747   \n2  5637152917   Water  2014-09-19  2021-12-16  5637160638  5637165412   \n3  5637152958   Water  2012-03-01         NaN  5637160127  5637166631   \n4  5637152976   Water  2015-02-27         NaN  5637170741  5637183317   \n\n      service  \n0  5637240266  \n1  5637267598  \n2  5637227496  \n3  5637239237  \n4  5637286959  ",
      "text/html": "<div>\n<style scoped>\n    .dataframe tbody tr th:only-of-type {\n        vertical-align: middle;\n    }\n\n    .dataframe tbody tr th {\n        vertical-align: top;\n    }\n\n    .dataframe thead th {\n        text-align: right;\n    }\n</style>\n<table border=\"1\" class=\"dataframe\">\n  <thead>\n    <tr style=\"text-align: right;\">\n      <th></th>\n      <th>contract</th>\n      <th>product</th>\n      <th>startdate</th>\n      <th>enddate</th>\n      <th>premises</th>\n      <th>customer</th>\n      <th>service</th>\n    </tr>\n  </thead>\n  <tbody>\n    <tr>\n      <th>0</th>\n      <td>5637152847</td>\n      <td>Water</td>\n      <td>2014-07-17</td>\n      <td>NaN</td>\n      <td>5637148436</td>\n      <td>5637150306</td>\n      <td>5637240266</td>\n    </tr>\n    <tr>\n      <th>1</th>\n      <td>5637152868</td>\n      <td>Water</td>\n      <td>2016-12-28</td>\n      <td>NaN</td>\n      <td>5637187276</td>\n      <td>5637201747</td>\n      <td>5637267598</td>\n    </tr>\n    <tr>\n      <th>2</th>\n      <td>5637152917</td>\n      <td>Water</td>\n      <td>2014-09-19</td>\n      <td>2021-12-16</td>\n      <td>5637160638</td>\n      <td>5637165412</td>\n      <td>5637227496</td>\n    </tr>\n    <tr>\n      <th>3</th>\n      <td>5637152958</td>\n      <td>Water</td>\n      <td>2012-03-01</td>\n      <td>NaN</td>\n      <td>5637160127</td>\n      <td>5637166631</td>\n      <td>5637239237</td>\n    </tr>\n    <tr>\n      <th>4</th>\n      <td>5637152976</td>\n      <td>Water</td>\n      <td>2015-02-27</td>\n      <td>NaN</td>\n      <td>5637170741</td>\n      <td>5637183317</td>\n      <td>5637286959</td>\n    </tr>\n  </tbody>\n</table>\n</div>"
     },
     "execution_count": 191,
     "metadata": {},
     "output_type": "execute_result"
    }
   ],
   "source": [
    "dim_ctr.head()"
   ],
   "metadata": {
    "collapsed": false,
    "ExecuteTime": {
     "end_time": "2024-02-12T18:38:00.986659300Z",
     "start_time": "2024-02-12T18:38:00.968275900Z"
    }
   },
   "id": "28ce41aaf8ad144a"
  },
  {
   "cell_type": "code",
   "execution_count": 192,
   "outputs": [],
   "source": [
    "merged_df = pd.merge(df, dim_ctr, on='contract', how='left')"
   ],
   "metadata": {
    "collapsed": false,
    "ExecuteTime": {
     "end_time": "2024-02-12T18:38:01.957371700Z",
     "start_time": "2024-02-12T18:38:01.696840100Z"
    }
   },
   "id": "9d3861797eb7ad2f"
  },
  {
   "cell_type": "code",
   "execution_count": 193,
   "outputs": [
    {
     "name": "stdout",
     "output_type": "stream",
     "text": [
      "<class 'pandas.core.frame.DataFrame'>\n",
      "RangeIndex: 477611 entries, 0 to 477610\n",
      "Data columns (total 9 columns):\n",
      " #   Column     Non-Null Count   Dtype         \n",
      "---  ------     --------------   -----         \n",
      " 0   contract   477611 non-null  object        \n",
      " 1   doc_date   477611 non-null  datetime64[ns]\n",
      " 2   kgal       477611 non-null  float64       \n",
      " 3   product    477602 non-null  object        \n",
      " 4   startdate  477602 non-null  object        \n",
      " 5   enddate    31277 non-null   object        \n",
      " 6   premises   477602 non-null  object        \n",
      " 7   customer   477602 non-null  object        \n",
      " 8   service    477602 non-null  object        \n",
      "dtypes: datetime64[ns](1), float64(1), object(7)\n",
      "memory usage: 32.8+ MB\n"
     ]
    }
   ],
   "source": [
    "merged_df.info()"
   ],
   "metadata": {
    "collapsed": false,
    "ExecuteTime": {
     "end_time": "2024-02-12T18:38:02.408225700Z",
     "start_time": "2024-02-12T18:38:02.312505600Z"
    }
   },
   "id": "24b93350c0749044"
  },
  {
   "cell_type": "code",
   "execution_count": 194,
   "outputs": [],
   "source": [
    "del df, dim_ctr"
   ],
   "metadata": {
    "collapsed": false,
    "ExecuteTime": {
     "end_time": "2024-02-12T18:38:03.106384100Z",
     "start_time": "2024-02-12T18:38:03.090223100Z"
    }
   },
   "id": "6432df06e8738b5"
  },
  {
   "cell_type": "code",
   "execution_count": 195,
   "outputs": [
    {
     "data": {
      "text/plain": "     premises           prem_type  city_limit           etj\n0  5637144576  Single family home       Other    GEORGETOWN\n1  5637144578  Single family home       Other  LIBERTY HILL\n2  5637144580  Single family home       Other    GEORGETOWN\n3  5637144587  Single family home  GEORGETOWN    GEORGETOWN\n4  5637144589  Single family home  GEORGETOWN    GEORGETOWN",
      "text/html": "<div>\n<style scoped>\n    .dataframe tbody tr th:only-of-type {\n        vertical-align: middle;\n    }\n\n    .dataframe tbody tr th {\n        vertical-align: top;\n    }\n\n    .dataframe thead th {\n        text-align: right;\n    }\n</style>\n<table border=\"1\" class=\"dataframe\">\n  <thead>\n    <tr style=\"text-align: right;\">\n      <th></th>\n      <th>premises</th>\n      <th>prem_type</th>\n      <th>city_limit</th>\n      <th>etj</th>\n    </tr>\n  </thead>\n  <tbody>\n    <tr>\n      <th>0</th>\n      <td>5637144576</td>\n      <td>Single family home</td>\n      <td>Other</td>\n      <td>GEORGETOWN</td>\n    </tr>\n    <tr>\n      <th>1</th>\n      <td>5637144578</td>\n      <td>Single family home</td>\n      <td>Other</td>\n      <td>LIBERTY HILL</td>\n    </tr>\n    <tr>\n      <th>2</th>\n      <td>5637144580</td>\n      <td>Single family home</td>\n      <td>Other</td>\n      <td>GEORGETOWN</td>\n    </tr>\n    <tr>\n      <th>3</th>\n      <td>5637144587</td>\n      <td>Single family home</td>\n      <td>GEORGETOWN</td>\n      <td>GEORGETOWN</td>\n    </tr>\n    <tr>\n      <th>4</th>\n      <td>5637144589</td>\n      <td>Single family home</td>\n      <td>GEORGETOWN</td>\n      <td>GEORGETOWN</td>\n    </tr>\n  </tbody>\n</table>\n</div>"
     },
     "execution_count": 195,
     "metadata": {},
     "output_type": "execute_result"
    }
   ],
   "source": [
    "dtypes = {'premises': object, 'prem_type': str, 'city_limit': str, 'etj': str}\n",
    "df = pd.read_csv('../data/raw/20240212-092027-umax2012-dim-prm.csv', names=dtypes.keys(), dtype=dtypes, header=0)\n",
    "df.head()"
   ],
   "metadata": {
    "collapsed": false,
    "ExecuteTime": {
     "end_time": "2024-02-12T18:38:03.976563100Z",
     "start_time": "2024-02-12T18:38:03.898702400Z"
    }
   },
   "id": "ded6cb24469a48b"
  },
  {
   "cell_type": "code",
   "execution_count": 196,
   "outputs": [],
   "source": [
    "merged_df = pd.merge(merged_df, df, on='premises', how='left')"
   ],
   "metadata": {
    "collapsed": false,
    "ExecuteTime": {
     "end_time": "2024-02-12T18:38:05.223998Z",
     "start_time": "2024-02-12T18:38:05.036444800Z"
    }
   },
   "id": "bc4dca1e2166e933"
  },
  {
   "cell_type": "code",
   "execution_count": 197,
   "outputs": [],
   "source": [
    "del df"
   ],
   "metadata": {
    "collapsed": false,
    "ExecuteTime": {
     "end_time": "2024-02-12T18:38:06.013752600Z",
     "start_time": "2024-02-12T18:38:06.000232200Z"
    }
   },
   "id": "15f1c1042d6ea343"
  },
  {
   "cell_type": "code",
   "execution_count": 198,
   "outputs": [
    {
     "data": {
      "text/plain": "     customer customer_group\n0  5637145389    Residential\n1  5637145399    Residential\n2  5637145411    Residential\n3  5637145431    Residential\n4  5637145438    Residential",
      "text/html": "<div>\n<style scoped>\n    .dataframe tbody tr th:only-of-type {\n        vertical-align: middle;\n    }\n\n    .dataframe tbody tr th {\n        vertical-align: top;\n    }\n\n    .dataframe thead th {\n        text-align: right;\n    }\n</style>\n<table border=\"1\" class=\"dataframe\">\n  <thead>\n    <tr style=\"text-align: right;\">\n      <th></th>\n      <th>customer</th>\n      <th>customer_group</th>\n    </tr>\n  </thead>\n  <tbody>\n    <tr>\n      <th>0</th>\n      <td>5637145389</td>\n      <td>Residential</td>\n    </tr>\n    <tr>\n      <th>1</th>\n      <td>5637145399</td>\n      <td>Residential</td>\n    </tr>\n    <tr>\n      <th>2</th>\n      <td>5637145411</td>\n      <td>Residential</td>\n    </tr>\n    <tr>\n      <th>3</th>\n      <td>5637145431</td>\n      <td>Residential</td>\n    </tr>\n    <tr>\n      <th>4</th>\n      <td>5637145438</td>\n      <td>Residential</td>\n    </tr>\n  </tbody>\n</table>\n</div>"
     },
     "execution_count": 198,
     "metadata": {},
     "output_type": "execute_result"
    }
   ],
   "source": [
    "dtypes = {'customer': object, 'customer_group': str}\n",
    "df = pd.read_csv('../data/raw/20240212-092129-umax2012-dim-cus.csv', names=dtypes.keys(), dtype=dtypes, header=0)\n",
    "df.head()"
   ],
   "metadata": {
    "collapsed": false,
    "ExecuteTime": {
     "end_time": "2024-02-12T18:38:06.836909800Z",
     "start_time": "2024-02-12T18:38:06.745207900Z"
    }
   },
   "id": "66e20077cec5ff4e"
  },
  {
   "cell_type": "code",
   "execution_count": 199,
   "outputs": [
    {
     "data": {
      "text/plain": "     contract   doc_date  kgal product   startdate enddate    premises  \\\n0  5637634178 2023-05-31   4.0   Water  2020-12-11     NaN  5637222254   \n1  5637875138 2023-05-31   2.0   Water  2023-05-10     NaN  5637242547   \n2  5637740937 2023-01-12   2.0   Water  2022-01-31     NaN  5637185481   \n3  5637768335 2023-06-02   2.0   Water  2022-05-10     NaN  5637151807   \n4  5637720913 2023-01-12   2.0   Water  2021-11-01     NaN  5637152481   \n\n     customer     service           prem_type  city_limit           etj  \\\n0  5637268264  5637344598  Single family home       Other           NaN   \n1  5637336821  5637382136  Single family home       Other  LIBERTY HILL   \n2  5637298709  5637166911  Single family home  GEORGETOWN    GEORGETOWN   \n3  5637306866  5637226741  Single family home  GEORGETOWN    GEORGETOWN   \n4  5637291986  5637278097  Single family home  GEORGETOWN    GEORGETOWN   \n\n  customer_group  \n0    Residential  \n1    Residential  \n2    Residential  \n3    Residential  \n4    Residential  ",
      "text/html": "<div>\n<style scoped>\n    .dataframe tbody tr th:only-of-type {\n        vertical-align: middle;\n    }\n\n    .dataframe tbody tr th {\n        vertical-align: top;\n    }\n\n    .dataframe thead th {\n        text-align: right;\n    }\n</style>\n<table border=\"1\" class=\"dataframe\">\n  <thead>\n    <tr style=\"text-align: right;\">\n      <th></th>\n      <th>contract</th>\n      <th>doc_date</th>\n      <th>kgal</th>\n      <th>product</th>\n      <th>startdate</th>\n      <th>enddate</th>\n      <th>premises</th>\n      <th>customer</th>\n      <th>service</th>\n      <th>prem_type</th>\n      <th>city_limit</th>\n      <th>etj</th>\n      <th>customer_group</th>\n    </tr>\n  </thead>\n  <tbody>\n    <tr>\n      <th>0</th>\n      <td>5637634178</td>\n      <td>2023-05-31</td>\n      <td>4.0</td>\n      <td>Water</td>\n      <td>2020-12-11</td>\n      <td>NaN</td>\n      <td>5637222254</td>\n      <td>5637268264</td>\n      <td>5637344598</td>\n      <td>Single family home</td>\n      <td>Other</td>\n      <td>NaN</td>\n      <td>Residential</td>\n    </tr>\n    <tr>\n      <th>1</th>\n      <td>5637875138</td>\n      <td>2023-05-31</td>\n      <td>2.0</td>\n      <td>Water</td>\n      <td>2023-05-10</td>\n      <td>NaN</td>\n      <td>5637242547</td>\n      <td>5637336821</td>\n      <td>5637382136</td>\n      <td>Single family home</td>\n      <td>Other</td>\n      <td>LIBERTY HILL</td>\n      <td>Residential</td>\n    </tr>\n    <tr>\n      <th>2</th>\n      <td>5637740937</td>\n      <td>2023-01-12</td>\n      <td>2.0</td>\n      <td>Water</td>\n      <td>2022-01-31</td>\n      <td>NaN</td>\n      <td>5637185481</td>\n      <td>5637298709</td>\n      <td>5637166911</td>\n      <td>Single family home</td>\n      <td>GEORGETOWN</td>\n      <td>GEORGETOWN</td>\n      <td>Residential</td>\n    </tr>\n    <tr>\n      <th>3</th>\n      <td>5637768335</td>\n      <td>2023-06-02</td>\n      <td>2.0</td>\n      <td>Water</td>\n      <td>2022-05-10</td>\n      <td>NaN</td>\n      <td>5637151807</td>\n      <td>5637306866</td>\n      <td>5637226741</td>\n      <td>Single family home</td>\n      <td>GEORGETOWN</td>\n      <td>GEORGETOWN</td>\n      <td>Residential</td>\n    </tr>\n    <tr>\n      <th>4</th>\n      <td>5637720913</td>\n      <td>2023-01-12</td>\n      <td>2.0</td>\n      <td>Water</td>\n      <td>2021-11-01</td>\n      <td>NaN</td>\n      <td>5637152481</td>\n      <td>5637291986</td>\n      <td>5637278097</td>\n      <td>Single family home</td>\n      <td>GEORGETOWN</td>\n      <td>GEORGETOWN</td>\n      <td>Residential</td>\n    </tr>\n  </tbody>\n</table>\n</div>"
     },
     "execution_count": 199,
     "metadata": {},
     "output_type": "execute_result"
    }
   ],
   "source": [
    "merged_df = pd.merge(merged_df, df, on='customer', how='left')\n",
    "merged_df.head()"
   ],
   "metadata": {
    "collapsed": false,
    "ExecuteTime": {
     "end_time": "2024-02-12T18:38:08.281042400Z",
     "start_time": "2024-02-12T18:38:08.024500900Z"
    }
   },
   "id": "d4778b4cc43675b1"
  },
  {
   "cell_type": "code",
   "execution_count": 200,
   "outputs": [],
   "source": [
    "del df"
   ],
   "metadata": {
    "collapsed": false,
    "ExecuteTime": {
     "end_time": "2024-02-12T18:38:09.368075200Z",
     "start_time": "2024-02-12T18:38:09.305317800Z"
    }
   },
   "id": "5ff95fc67406217d"
  },
  {
   "cell_type": "code",
   "execution_count": 201,
   "outputs": [
    {
     "data": {
      "text/plain": "      service   serv_type        serv_county\n0  5637144586       Water  Williamson County\n1  5637144597       Water  Williamson County\n2  5637144630  Irrigation  Williamson County\n3  5637144632       Water  Williamson County\n4  5637144670       Water  Williamson County",
      "text/html": "<div>\n<style scoped>\n    .dataframe tbody tr th:only-of-type {\n        vertical-align: middle;\n    }\n\n    .dataframe tbody tr th {\n        vertical-align: top;\n    }\n\n    .dataframe thead th {\n        text-align: right;\n    }\n</style>\n<table border=\"1\" class=\"dataframe\">\n  <thead>\n    <tr style=\"text-align: right;\">\n      <th></th>\n      <th>service</th>\n      <th>serv_type</th>\n      <th>serv_county</th>\n    </tr>\n  </thead>\n  <tbody>\n    <tr>\n      <th>0</th>\n      <td>5637144586</td>\n      <td>Water</td>\n      <td>Williamson County</td>\n    </tr>\n    <tr>\n      <th>1</th>\n      <td>5637144597</td>\n      <td>Water</td>\n      <td>Williamson County</td>\n    </tr>\n    <tr>\n      <th>2</th>\n      <td>5637144630</td>\n      <td>Irrigation</td>\n      <td>Williamson County</td>\n    </tr>\n    <tr>\n      <th>3</th>\n      <td>5637144632</td>\n      <td>Water</td>\n      <td>Williamson County</td>\n    </tr>\n    <tr>\n      <th>4</th>\n      <td>5637144670</td>\n      <td>Water</td>\n      <td>Williamson County</td>\n    </tr>\n  </tbody>\n</table>\n</div>"
     },
     "execution_count": 201,
     "metadata": {},
     "output_type": "execute_result"
    }
   ],
   "source": [
    "dtypes = {'service': object, 'serv_type': str, 'serv_county': str}\n",
    "df = pd.read_csv('../data/raw/20240212-122134-umax2012-dim-srv.csv', names=dtypes.keys(), dtype=dtypes, header=0)\n",
    "df.head()"
   ],
   "metadata": {
    "collapsed": false,
    "ExecuteTime": {
     "end_time": "2024-02-12T18:38:10.157856900Z",
     "start_time": "2024-02-12T18:38:10.050054Z"
    }
   },
   "id": "6205003db61106e"
  },
  {
   "cell_type": "code",
   "execution_count": 202,
   "outputs": [
    {
     "data": {
      "text/plain": "     contract   doc_date  kgal product   startdate enddate    premises  \\\n0  5637634178 2023-05-31   4.0   Water  2020-12-11     NaN  5637222254   \n1  5637875138 2023-05-31   2.0   Water  2023-05-10     NaN  5637242547   \n2  5637740937 2023-01-12   2.0   Water  2022-01-31     NaN  5637185481   \n3  5637768335 2023-06-02   2.0   Water  2022-05-10     NaN  5637151807   \n4  5637720913 2023-01-12   2.0   Water  2021-11-01     NaN  5637152481   \n\n     customer     service           prem_type  city_limit           etj  \\\n0  5637268264  5637344598  Single family home       Other           NaN   \n1  5637336821  5637382136  Single family home       Other  LIBERTY HILL   \n2  5637298709  5637166911  Single family home  GEORGETOWN    GEORGETOWN   \n3  5637306866  5637226741  Single family home  GEORGETOWN    GEORGETOWN   \n4  5637291986  5637278097  Single family home  GEORGETOWN    GEORGETOWN   \n\n  customer_group serv_type        serv_county  \n0    Residential     Water  Williamson County  \n1    Residential     Water  Williamson County  \n2    Residential     Water  Williamson County  \n3    Residential     Water  Williamson County  \n4    Residential     Water  Williamson County  ",
      "text/html": "<div>\n<style scoped>\n    .dataframe tbody tr th:only-of-type {\n        vertical-align: middle;\n    }\n\n    .dataframe tbody tr th {\n        vertical-align: top;\n    }\n\n    .dataframe thead th {\n        text-align: right;\n    }\n</style>\n<table border=\"1\" class=\"dataframe\">\n  <thead>\n    <tr style=\"text-align: right;\">\n      <th></th>\n      <th>contract</th>\n      <th>doc_date</th>\n      <th>kgal</th>\n      <th>product</th>\n      <th>startdate</th>\n      <th>enddate</th>\n      <th>premises</th>\n      <th>customer</th>\n      <th>service</th>\n      <th>prem_type</th>\n      <th>city_limit</th>\n      <th>etj</th>\n      <th>customer_group</th>\n      <th>serv_type</th>\n      <th>serv_county</th>\n    </tr>\n  </thead>\n  <tbody>\n    <tr>\n      <th>0</th>\n      <td>5637634178</td>\n      <td>2023-05-31</td>\n      <td>4.0</td>\n      <td>Water</td>\n      <td>2020-12-11</td>\n      <td>NaN</td>\n      <td>5637222254</td>\n      <td>5637268264</td>\n      <td>5637344598</td>\n      <td>Single family home</td>\n      <td>Other</td>\n      <td>NaN</td>\n      <td>Residential</td>\n      <td>Water</td>\n      <td>Williamson County</td>\n    </tr>\n    <tr>\n      <th>1</th>\n      <td>5637875138</td>\n      <td>2023-05-31</td>\n      <td>2.0</td>\n      <td>Water</td>\n      <td>2023-05-10</td>\n      <td>NaN</td>\n      <td>5637242547</td>\n      <td>5637336821</td>\n      <td>5637382136</td>\n      <td>Single family home</td>\n      <td>Other</td>\n      <td>LIBERTY HILL</td>\n      <td>Residential</td>\n      <td>Water</td>\n      <td>Williamson County</td>\n    </tr>\n    <tr>\n      <th>2</th>\n      <td>5637740937</td>\n      <td>2023-01-12</td>\n      <td>2.0</td>\n      <td>Water</td>\n      <td>2022-01-31</td>\n      <td>NaN</td>\n      <td>5637185481</td>\n      <td>5637298709</td>\n      <td>5637166911</td>\n      <td>Single family home</td>\n      <td>GEORGETOWN</td>\n      <td>GEORGETOWN</td>\n      <td>Residential</td>\n      <td>Water</td>\n      <td>Williamson County</td>\n    </tr>\n    <tr>\n      <th>3</th>\n      <td>5637768335</td>\n      <td>2023-06-02</td>\n      <td>2.0</td>\n      <td>Water</td>\n      <td>2022-05-10</td>\n      <td>NaN</td>\n      <td>5637151807</td>\n      <td>5637306866</td>\n      <td>5637226741</td>\n      <td>Single family home</td>\n      <td>GEORGETOWN</td>\n      <td>GEORGETOWN</td>\n      <td>Residential</td>\n      <td>Water</td>\n      <td>Williamson County</td>\n    </tr>\n    <tr>\n      <th>4</th>\n      <td>5637720913</td>\n      <td>2023-01-12</td>\n      <td>2.0</td>\n      <td>Water</td>\n      <td>2021-11-01</td>\n      <td>NaN</td>\n      <td>5637152481</td>\n      <td>5637291986</td>\n      <td>5637278097</td>\n      <td>Single family home</td>\n      <td>GEORGETOWN</td>\n      <td>GEORGETOWN</td>\n      <td>Residential</td>\n      <td>Water</td>\n      <td>Williamson County</td>\n    </tr>\n  </tbody>\n</table>\n</div>"
     },
     "execution_count": 202,
     "metadata": {},
     "output_type": "execute_result"
    }
   ],
   "source": [
    "merged_df = pd.merge(merged_df, df, on='service', how='left')\n",
    "merged_df.head()"
   ],
   "metadata": {
    "collapsed": false,
    "ExecuteTime": {
     "end_time": "2024-02-12T18:38:11.129524900Z",
     "start_time": "2024-02-12T18:38:10.908668800Z"
    }
   },
   "id": "d09c430533332266"
  },
  {
   "cell_type": "code",
   "execution_count": 203,
   "outputs": [],
   "source": [
    "del df"
   ],
   "metadata": {
    "collapsed": false,
    "ExecuteTime": {
     "end_time": "2024-02-12T18:38:11.814007500Z",
     "start_time": "2024-02-12T18:38:11.794844100Z"
    }
   },
   "id": "d1ed42a21531076"
  },
  {
   "cell_type": "code",
   "execution_count": 204,
   "outputs": [],
   "source": [
    "drop_cols = ['service', 'customer', 'premises']\n",
    "merged_df.drop(drop_cols, axis=1, inplace=True)"
   ],
   "metadata": {
    "collapsed": false,
    "ExecuteTime": {
     "end_time": "2024-02-12T18:38:13.345599400Z",
     "start_time": "2024-02-12T18:38:13.297208700Z"
    }
   },
   "id": "6b1edb58f8b4bb43"
  },
  {
   "cell_type": "code",
   "execution_count": 205,
   "outputs": [
    {
     "data": {
      "text/plain": "     contract   doc_date  kgal product   startdate enddate  \\\n0  5637634178 2023-05-31   4.0   Water  2020-12-11     NaN   \n1  5637875138 2023-05-31   2.0   Water  2023-05-10     NaN   \n2  5637740937 2023-01-12   2.0   Water  2022-01-31     NaN   \n3  5637768335 2023-06-02   2.0   Water  2022-05-10     NaN   \n4  5637720913 2023-01-12   2.0   Water  2021-11-01     NaN   \n\n            prem_type  city_limit           etj customer_group serv_type  \\\n0  Single family home       Other           NaN    Residential     Water   \n1  Single family home       Other  LIBERTY HILL    Residential     Water   \n2  Single family home  GEORGETOWN    GEORGETOWN    Residential     Water   \n3  Single family home  GEORGETOWN    GEORGETOWN    Residential     Water   \n4  Single family home  GEORGETOWN    GEORGETOWN    Residential     Water   \n\n         serv_county  \n0  Williamson County  \n1  Williamson County  \n2  Williamson County  \n3  Williamson County  \n4  Williamson County  ",
      "text/html": "<div>\n<style scoped>\n    .dataframe tbody tr th:only-of-type {\n        vertical-align: middle;\n    }\n\n    .dataframe tbody tr th {\n        vertical-align: top;\n    }\n\n    .dataframe thead th {\n        text-align: right;\n    }\n</style>\n<table border=\"1\" class=\"dataframe\">\n  <thead>\n    <tr style=\"text-align: right;\">\n      <th></th>\n      <th>contract</th>\n      <th>doc_date</th>\n      <th>kgal</th>\n      <th>product</th>\n      <th>startdate</th>\n      <th>enddate</th>\n      <th>prem_type</th>\n      <th>city_limit</th>\n      <th>etj</th>\n      <th>customer_group</th>\n      <th>serv_type</th>\n      <th>serv_county</th>\n    </tr>\n  </thead>\n  <tbody>\n    <tr>\n      <th>0</th>\n      <td>5637634178</td>\n      <td>2023-05-31</td>\n      <td>4.0</td>\n      <td>Water</td>\n      <td>2020-12-11</td>\n      <td>NaN</td>\n      <td>Single family home</td>\n      <td>Other</td>\n      <td>NaN</td>\n      <td>Residential</td>\n      <td>Water</td>\n      <td>Williamson County</td>\n    </tr>\n    <tr>\n      <th>1</th>\n      <td>5637875138</td>\n      <td>2023-05-31</td>\n      <td>2.0</td>\n      <td>Water</td>\n      <td>2023-05-10</td>\n      <td>NaN</td>\n      <td>Single family home</td>\n      <td>Other</td>\n      <td>LIBERTY HILL</td>\n      <td>Residential</td>\n      <td>Water</td>\n      <td>Williamson County</td>\n    </tr>\n    <tr>\n      <th>2</th>\n      <td>5637740937</td>\n      <td>2023-01-12</td>\n      <td>2.0</td>\n      <td>Water</td>\n      <td>2022-01-31</td>\n      <td>NaN</td>\n      <td>Single family home</td>\n      <td>GEORGETOWN</td>\n      <td>GEORGETOWN</td>\n      <td>Residential</td>\n      <td>Water</td>\n      <td>Williamson County</td>\n    </tr>\n    <tr>\n      <th>3</th>\n      <td>5637768335</td>\n      <td>2023-06-02</td>\n      <td>2.0</td>\n      <td>Water</td>\n      <td>2022-05-10</td>\n      <td>NaN</td>\n      <td>Single family home</td>\n      <td>GEORGETOWN</td>\n      <td>GEORGETOWN</td>\n      <td>Residential</td>\n      <td>Water</td>\n      <td>Williamson County</td>\n    </tr>\n    <tr>\n      <th>4</th>\n      <td>5637720913</td>\n      <td>2023-01-12</td>\n      <td>2.0</td>\n      <td>Water</td>\n      <td>2021-11-01</td>\n      <td>NaN</td>\n      <td>Single family home</td>\n      <td>GEORGETOWN</td>\n      <td>GEORGETOWN</td>\n      <td>Residential</td>\n      <td>Water</td>\n      <td>Williamson County</td>\n    </tr>\n  </tbody>\n</table>\n</div>"
     },
     "execution_count": 205,
     "metadata": {},
     "output_type": "execute_result"
    }
   ],
   "source": [
    "merged_df.head()"
   ],
   "metadata": {
    "collapsed": false,
    "ExecuteTime": {
     "end_time": "2024-02-12T18:38:14.265365200Z",
     "start_time": "2024-02-12T18:38:14.248677500Z"
    }
   },
   "id": "ed45bb0c676fe5ff"
  },
  {
   "cell_type": "code",
   "execution_count": 206,
   "outputs": [
    {
     "name": "stdout",
     "output_type": "stream",
     "text": [
      "<class 'pandas.core.series.Series'>\n",
      "RangeIndex: 477611 entries, 0 to 477610\n",
      "Series name: contract\n",
      "Non-Null Count   Dtype \n",
      "--------------   ----- \n",
      "477611 non-null  object\n",
      "dtypes: object(1)\n",
      "memory usage: 3.6+ MB\n"
     ]
    }
   ],
   "source": [
    "merged_df.contract.info()"
   ],
   "metadata": {
    "collapsed": false,
    "ExecuteTime": {
     "end_time": "2024-02-12T18:38:16.608248800Z",
     "start_time": "2024-02-12T18:38:16.527637Z"
    }
   },
   "id": "1f80b6b9e0b86bf2"
  },
  {
   "cell_type": "code",
   "execution_count": 207,
   "outputs": [
    {
     "data": {
      "text/plain": "62865"
     },
     "execution_count": 207,
     "metadata": {},
     "output_type": "execute_result"
    }
   ],
   "source": [
    "merged_df.contract.nunique()"
   ],
   "metadata": {
    "collapsed": false,
    "ExecuteTime": {
     "end_time": "2024-02-12T18:38:17.785824900Z",
     "start_time": "2024-02-12T18:38:17.744024900Z"
    }
   },
   "id": "bc17f6f54b6181eb"
  },
  {
   "cell_type": "code",
   "execution_count": 208,
   "outputs": [],
   "source": [
    "merged_df.drop(['startdate', 'enddate', 'city_limit', 'etj', 'serv_type'], axis=1, inplace=True)"
   ],
   "metadata": {
    "collapsed": false,
    "ExecuteTime": {
     "end_time": "2024-02-12T18:38:22.662196100Z",
     "start_time": "2024-02-12T18:38:22.632030800Z"
    }
   },
   "id": "90fb643ed015358"
  },
  {
   "cell_type": "code",
   "execution_count": 209,
   "outputs": [
    {
     "data": {
      "text/plain": "     contract   doc_date  kgal product           prem_type customer_group  \\\n0  5637634178 2023-05-31   4.0   Water  Single family home    Residential   \n1  5637875138 2023-05-31   2.0   Water  Single family home    Residential   \n2  5637740937 2023-01-12   2.0   Water  Single family home    Residential   \n3  5637768335 2023-06-02   2.0   Water  Single family home    Residential   \n4  5637720913 2023-01-12   2.0   Water  Single family home    Residential   \n\n         serv_county  \n0  Williamson County  \n1  Williamson County  \n2  Williamson County  \n3  Williamson County  \n4  Williamson County  ",
      "text/html": "<div>\n<style scoped>\n    .dataframe tbody tr th:only-of-type {\n        vertical-align: middle;\n    }\n\n    .dataframe tbody tr th {\n        vertical-align: top;\n    }\n\n    .dataframe thead th {\n        text-align: right;\n    }\n</style>\n<table border=\"1\" class=\"dataframe\">\n  <thead>\n    <tr style=\"text-align: right;\">\n      <th></th>\n      <th>contract</th>\n      <th>doc_date</th>\n      <th>kgal</th>\n      <th>product</th>\n      <th>prem_type</th>\n      <th>customer_group</th>\n      <th>serv_county</th>\n    </tr>\n  </thead>\n  <tbody>\n    <tr>\n      <th>0</th>\n      <td>5637634178</td>\n      <td>2023-05-31</td>\n      <td>4.0</td>\n      <td>Water</td>\n      <td>Single family home</td>\n      <td>Residential</td>\n      <td>Williamson County</td>\n    </tr>\n    <tr>\n      <th>1</th>\n      <td>5637875138</td>\n      <td>2023-05-31</td>\n      <td>2.0</td>\n      <td>Water</td>\n      <td>Single family home</td>\n      <td>Residential</td>\n      <td>Williamson County</td>\n    </tr>\n    <tr>\n      <th>2</th>\n      <td>5637740937</td>\n      <td>2023-01-12</td>\n      <td>2.0</td>\n      <td>Water</td>\n      <td>Single family home</td>\n      <td>Residential</td>\n      <td>Williamson County</td>\n    </tr>\n    <tr>\n      <th>3</th>\n      <td>5637768335</td>\n      <td>2023-06-02</td>\n      <td>2.0</td>\n      <td>Water</td>\n      <td>Single family home</td>\n      <td>Residential</td>\n      <td>Williamson County</td>\n    </tr>\n    <tr>\n      <th>4</th>\n      <td>5637720913</td>\n      <td>2023-01-12</td>\n      <td>2.0</td>\n      <td>Water</td>\n      <td>Single family home</td>\n      <td>Residential</td>\n      <td>Williamson County</td>\n    </tr>\n  </tbody>\n</table>\n</div>"
     },
     "execution_count": 209,
     "metadata": {},
     "output_type": "execute_result"
    }
   ],
   "source": [
    "merged_df.head()"
   ],
   "metadata": {
    "collapsed": false,
    "ExecuteTime": {
     "end_time": "2024-02-12T18:38:23.369394600Z",
     "start_time": "2024-02-12T18:38:23.338599500Z"
    }
   },
   "id": "f226744f02381e78"
  },
  {
   "cell_type": "code",
   "execution_count": 210,
   "outputs": [],
   "source": [
    "# moving columns to match destination format\n",
    "columns_to_pop = ['contract', 'kgal']\n",
    "new_index_pos = [1, 6]\n",
    "for column_name, index_pos in zip(columns_to_pop, new_index_pos):\n",
    "    column = merged_df.pop(column_name)\n",
    "    merged_df.insert(index_pos, column_name, column)"
   ],
   "metadata": {
    "collapsed": false,
    "ExecuteTime": {
     "end_time": "2024-02-12T18:38:33.316853Z",
     "start_time": "2024-02-12T18:38:33.302477100Z"
    }
   },
   "id": "fb7563aef4e629af"
  },
  {
   "cell_type": "code",
   "execution_count": 247,
   "outputs": [
    {
     "data": {
      "text/plain": "    doc_date    contract product           prem_type customer_group  \\\n0 2023-05-31  5637634178   Water  Single family home    Residential   \n1 2023-05-31  5637875138   Water  Single family home    Residential   \n2 2023-01-12  5637740937   Water  Single family home    Residential   \n3 2023-06-02  5637768335   Water  Single family home    Residential   \n4 2023-01-12  5637720913   Water  Single family home    Residential   \n\n         serv_county  kgal  \n0  Williamson County   4.0  \n1  Williamson County   2.0  \n2  Williamson County   2.0  \n3  Williamson County   2.0  \n4  Williamson County   2.0  ",
      "text/html": "<div>\n<style scoped>\n    .dataframe tbody tr th:only-of-type {\n        vertical-align: middle;\n    }\n\n    .dataframe tbody tr th {\n        vertical-align: top;\n    }\n\n    .dataframe thead th {\n        text-align: right;\n    }\n</style>\n<table border=\"1\" class=\"dataframe\">\n  <thead>\n    <tr style=\"text-align: right;\">\n      <th></th>\n      <th>doc_date</th>\n      <th>contract</th>\n      <th>product</th>\n      <th>prem_type</th>\n      <th>customer_group</th>\n      <th>serv_county</th>\n      <th>kgal</th>\n    </tr>\n  </thead>\n  <tbody>\n    <tr>\n      <th>0</th>\n      <td>2023-05-31</td>\n      <td>5637634178</td>\n      <td>Water</td>\n      <td>Single family home</td>\n      <td>Residential</td>\n      <td>Williamson County</td>\n      <td>4.0</td>\n    </tr>\n    <tr>\n      <th>1</th>\n      <td>2023-05-31</td>\n      <td>5637875138</td>\n      <td>Water</td>\n      <td>Single family home</td>\n      <td>Residential</td>\n      <td>Williamson County</td>\n      <td>2.0</td>\n    </tr>\n    <tr>\n      <th>2</th>\n      <td>2023-01-12</td>\n      <td>5637740937</td>\n      <td>Water</td>\n      <td>Single family home</td>\n      <td>Residential</td>\n      <td>Williamson County</td>\n      <td>2.0</td>\n    </tr>\n    <tr>\n      <th>3</th>\n      <td>2023-06-02</td>\n      <td>5637768335</td>\n      <td>Water</td>\n      <td>Single family home</td>\n      <td>Residential</td>\n      <td>Williamson County</td>\n      <td>2.0</td>\n    </tr>\n    <tr>\n      <th>4</th>\n      <td>2023-01-12</td>\n      <td>5637720913</td>\n      <td>Water</td>\n      <td>Single family home</td>\n      <td>Residential</td>\n      <td>Williamson County</td>\n      <td>2.0</td>\n    </tr>\n  </tbody>\n</table>\n</div>"
     },
     "execution_count": 247,
     "metadata": {},
     "output_type": "execute_result"
    }
   ],
   "source": [
    "merged_df.head()"
   ],
   "metadata": {
    "collapsed": false,
    "ExecuteTime": {
     "end_time": "2024-02-12T19:07:28.510187200Z",
     "start_time": "2024-02-12T19:07:28.463288700Z"
    }
   },
   "id": "cdd95acd4706f9c3"
  },
  {
   "cell_type": "markdown",
   "source": [
    "## Concatenating the 2012 and 365 datasets"
   ],
   "metadata": {
    "collapsed": false
   },
   "id": "aeec36dac8895c48"
  },
  {
   "cell_type": "code",
   "execution_count": 248,
   "outputs": [
    {
     "data": {
      "text/plain": "    doc_date    contract product      prem_type customer_group serv_county  \\\n0 2023-10-01  5637161024   Water  Single family    Residential  WILLIAMSON   \n1 2023-10-01  5637171867   Water  Single family    Residential  WILLIAMSON   \n2 2023-10-01  5637192883   Water  Single family    Residential  WILLIAMSON   \n3 2023-10-01  5637232787   Water  Single family    Residential  WILLIAMSON   \n4 2023-10-01  5637261933   Water  Single family    Residential  WILLIAMSON   \n\n         kgal  \n0  103.000000  \n1   13.000000  \n2    3.000000  \n3    1.000000  \n4    4.000000  ",
      "text/html": "<div>\n<style scoped>\n    .dataframe tbody tr th:only-of-type {\n        vertical-align: middle;\n    }\n\n    .dataframe tbody tr th {\n        vertical-align: top;\n    }\n\n    .dataframe thead th {\n        text-align: right;\n    }\n</style>\n<table border=\"1\" class=\"dataframe\">\n  <thead>\n    <tr style=\"text-align: right;\">\n      <th></th>\n      <th>doc_date</th>\n      <th>contract</th>\n      <th>product</th>\n      <th>prem_type</th>\n      <th>customer_group</th>\n      <th>serv_county</th>\n      <th>kgal</th>\n    </tr>\n  </thead>\n  <tbody>\n    <tr>\n      <th>0</th>\n      <td>2023-10-01</td>\n      <td>5637161024</td>\n      <td>Water</td>\n      <td>Single family</td>\n      <td>Residential</td>\n      <td>WILLIAMSON</td>\n      <td>103.000000</td>\n    </tr>\n    <tr>\n      <th>1</th>\n      <td>2023-10-01</td>\n      <td>5637171867</td>\n      <td>Water</td>\n      <td>Single family</td>\n      <td>Residential</td>\n      <td>WILLIAMSON</td>\n      <td>13.000000</td>\n    </tr>\n    <tr>\n      <th>2</th>\n      <td>2023-10-01</td>\n      <td>5637192883</td>\n      <td>Water</td>\n      <td>Single family</td>\n      <td>Residential</td>\n      <td>WILLIAMSON</td>\n      <td>3.000000</td>\n    </tr>\n    <tr>\n      <th>3</th>\n      <td>2023-10-01</td>\n      <td>5637232787</td>\n      <td>Water</td>\n      <td>Single family</td>\n      <td>Residential</td>\n      <td>WILLIAMSON</td>\n      <td>1.000000</td>\n    </tr>\n    <tr>\n      <th>4</th>\n      <td>2023-10-01</td>\n      <td>5637261933</td>\n      <td>Water</td>\n      <td>Single family</td>\n      <td>Residential</td>\n      <td>WILLIAMSON</td>\n      <td>4.000000</td>\n    </tr>\n  </tbody>\n</table>\n</div>"
     },
     "execution_count": 248,
     "metadata": {},
     "output_type": "execute_result"
    }
   ],
   "source": [
    "bln_df.head()"
   ],
   "metadata": {
    "collapsed": false,
    "ExecuteTime": {
     "end_time": "2024-02-12T19:07:30.786065800Z",
     "start_time": "2024-02-12T19:07:30.765341200Z"
    }
   },
   "id": "b8577f4bb7528d51"
  },
  {
   "cell_type": "code",
   "execution_count": 249,
   "outputs": [],
   "source": [
    "bln_rename = {\n",
    "    'DOCUMENTDATE': 'doc_date'\n",
    "    , 'CONTRACT_KEY': 'contract'\n",
    "    , 'PRODUCT': 'product'\n",
    "    , 'SERVICE': 'service'\n",
    "    , 'PREMTYPE': 'prem_type'\n",
    "    , 'CUSTOMERGROUP': 'customer_group'\n",
    "    , 'SERV_COUNTY': 'serv_county'\n",
    "    , 'kgals': 'kgal'\n",
    "}   \n",
    "bln_df.rename(columns=bln_rename, inplace=True)"
   ],
   "metadata": {
    "collapsed": false,
    "ExecuteTime": {
     "end_time": "2024-02-12T19:07:34.701958700Z",
     "start_time": "2024-02-12T19:07:34.681530700Z"
    }
   },
   "id": "2179471313c63cbd"
  },
  {
   "cell_type": "code",
   "execution_count": 250,
   "outputs": [
    {
     "data": {
      "text/plain": "    doc_date    contract product      prem_type customer_group serv_county  \\\n0 2023-10-01  5637161024   Water  Single family    Residential  WILLIAMSON   \n1 2023-10-01  5637171867   Water  Single family    Residential  WILLIAMSON   \n2 2023-10-01  5637192883   Water  Single family    Residential  WILLIAMSON   \n3 2023-10-01  5637232787   Water  Single family    Residential  WILLIAMSON   \n4 2023-10-01  5637261933   Water  Single family    Residential  WILLIAMSON   \n\n         kgal  \n0  103.000000  \n1   13.000000  \n2    3.000000  \n3    1.000000  \n4    4.000000  ",
      "text/html": "<div>\n<style scoped>\n    .dataframe tbody tr th:only-of-type {\n        vertical-align: middle;\n    }\n\n    .dataframe tbody tr th {\n        vertical-align: top;\n    }\n\n    .dataframe thead th {\n        text-align: right;\n    }\n</style>\n<table border=\"1\" class=\"dataframe\">\n  <thead>\n    <tr style=\"text-align: right;\">\n      <th></th>\n      <th>doc_date</th>\n      <th>contract</th>\n      <th>product</th>\n      <th>prem_type</th>\n      <th>customer_group</th>\n      <th>serv_county</th>\n      <th>kgal</th>\n    </tr>\n  </thead>\n  <tbody>\n    <tr>\n      <th>0</th>\n      <td>2023-10-01</td>\n      <td>5637161024</td>\n      <td>Water</td>\n      <td>Single family</td>\n      <td>Residential</td>\n      <td>WILLIAMSON</td>\n      <td>103.000000</td>\n    </tr>\n    <tr>\n      <th>1</th>\n      <td>2023-10-01</td>\n      <td>5637171867</td>\n      <td>Water</td>\n      <td>Single family</td>\n      <td>Residential</td>\n      <td>WILLIAMSON</td>\n      <td>13.000000</td>\n    </tr>\n    <tr>\n      <th>2</th>\n      <td>2023-10-01</td>\n      <td>5637192883</td>\n      <td>Water</td>\n      <td>Single family</td>\n      <td>Residential</td>\n      <td>WILLIAMSON</td>\n      <td>3.000000</td>\n    </tr>\n    <tr>\n      <th>3</th>\n      <td>2023-10-01</td>\n      <td>5637232787</td>\n      <td>Water</td>\n      <td>Single family</td>\n      <td>Residential</td>\n      <td>WILLIAMSON</td>\n      <td>1.000000</td>\n    </tr>\n    <tr>\n      <th>4</th>\n      <td>2023-10-01</td>\n      <td>5637261933</td>\n      <td>Water</td>\n      <td>Single family</td>\n      <td>Residential</td>\n      <td>WILLIAMSON</td>\n      <td>4.000000</td>\n    </tr>\n  </tbody>\n</table>\n</div>"
     },
     "execution_count": 250,
     "metadata": {},
     "output_type": "execute_result"
    }
   ],
   "source": [
    "bln_df.head()"
   ],
   "metadata": {
    "collapsed": false,
    "ExecuteTime": {
     "end_time": "2024-02-12T19:07:35.746645900Z",
     "start_time": "2024-02-12T19:07:35.726836600Z"
    }
   },
   "id": "90e69893b56fb57d"
  },
  {
   "cell_type": "code",
   "execution_count": 251,
   "outputs": [],
   "source": [
    "cat_df = pd.concat([merged_df, bln_df])"
   ],
   "metadata": {
    "collapsed": false,
    "ExecuteTime": {
     "end_time": "2024-02-12T19:07:37.449154700Z",
     "start_time": "2024-02-12T19:07:37.396645500Z"
    }
   },
   "id": "499d0fa27b2c3097"
  },
  {
   "cell_type": "code",
   "execution_count": 252,
   "outputs": [
    {
     "data": {
      "text/plain": "    doc_date    contract product           prem_type customer_group  \\\n0 2023-05-31  5637634178   Water  Single family home    Residential   \n1 2023-05-31  5637875138   Water  Single family home    Residential   \n2 2023-01-12  5637740937   Water  Single family home    Residential   \n3 2023-06-02  5637768335   Water  Single family home    Residential   \n4 2023-01-12  5637720913   Water  Single family home    Residential   \n\n         serv_county kgal  \n0  Williamson County  4.0  \n1  Williamson County  2.0  \n2  Williamson County  2.0  \n3  Williamson County  2.0  \n4  Williamson County  2.0  ",
      "text/html": "<div>\n<style scoped>\n    .dataframe tbody tr th:only-of-type {\n        vertical-align: middle;\n    }\n\n    .dataframe tbody tr th {\n        vertical-align: top;\n    }\n\n    .dataframe thead th {\n        text-align: right;\n    }\n</style>\n<table border=\"1\" class=\"dataframe\">\n  <thead>\n    <tr style=\"text-align: right;\">\n      <th></th>\n      <th>doc_date</th>\n      <th>contract</th>\n      <th>product</th>\n      <th>prem_type</th>\n      <th>customer_group</th>\n      <th>serv_county</th>\n      <th>kgal</th>\n    </tr>\n  </thead>\n  <tbody>\n    <tr>\n      <th>0</th>\n      <td>2023-05-31</td>\n      <td>5637634178</td>\n      <td>Water</td>\n      <td>Single family home</td>\n      <td>Residential</td>\n      <td>Williamson County</td>\n      <td>4.0</td>\n    </tr>\n    <tr>\n      <th>1</th>\n      <td>2023-05-31</td>\n      <td>5637875138</td>\n      <td>Water</td>\n      <td>Single family home</td>\n      <td>Residential</td>\n      <td>Williamson County</td>\n      <td>2.0</td>\n    </tr>\n    <tr>\n      <th>2</th>\n      <td>2023-01-12</td>\n      <td>5637740937</td>\n      <td>Water</td>\n      <td>Single family home</td>\n      <td>Residential</td>\n      <td>Williamson County</td>\n      <td>2.0</td>\n    </tr>\n    <tr>\n      <th>3</th>\n      <td>2023-06-02</td>\n      <td>5637768335</td>\n      <td>Water</td>\n      <td>Single family home</td>\n      <td>Residential</td>\n      <td>Williamson County</td>\n      <td>2.0</td>\n    </tr>\n    <tr>\n      <th>4</th>\n      <td>2023-01-12</td>\n      <td>5637720913</td>\n      <td>Water</td>\n      <td>Single family home</td>\n      <td>Residential</td>\n      <td>Williamson County</td>\n      <td>2.0</td>\n    </tr>\n  </tbody>\n</table>\n</div>"
     },
     "execution_count": 252,
     "metadata": {},
     "output_type": "execute_result"
    }
   ],
   "source": [
    "cat_df.head()"
   ],
   "metadata": {
    "collapsed": false,
    "ExecuteTime": {
     "end_time": "2024-02-12T19:07:38.295067100Z",
     "start_time": "2024-02-12T19:07:38.261224600Z"
    }
   },
   "id": "74b2b91a5df48e60"
  },
  {
   "cell_type": "code",
   "execution_count": 253,
   "outputs": [],
   "source": [
    "df = cat_df.copy()\n",
    "del cat_df"
   ],
   "metadata": {
    "collapsed": false,
    "ExecuteTime": {
     "end_time": "2024-02-12T19:07:39.746817400Z",
     "start_time": "2024-02-12T19:07:39.578239300Z"
    }
   },
   "id": "cb508952dc3535f5"
  },
  {
   "cell_type": "markdown",
   "source": [
    "### Cleaning dataset"
   ],
   "metadata": {
    "collapsed": false
   },
   "id": "8c6180176b3b58"
  },
  {
   "cell_type": "code",
   "execution_count": 254,
   "outputs": [
    {
     "data": {
      "text/plain": "product\nWater                 729060\nIrrigation              7585\nMulti-family water      1074\nHydrant                  940\nMulti_Family_Water       924\nLH wholesale               9\nFlorence wholesale         7\nFlorence_Wholesale         5\nRV_Park_Water              4\nLH_Wholesale               1\nName: count, dtype: int64"
     },
     "execution_count": 254,
     "metadata": {},
     "output_type": "execute_result"
    }
   ],
   "source": [
    "df['product'].value_counts()"
   ],
   "metadata": {
    "collapsed": false,
    "ExecuteTime": {
     "end_time": "2024-02-12T19:07:40.629578600Z",
     "start_time": "2024-02-12T19:07:40.589545400Z"
    }
   },
   "id": "3586d5cdf5361f9f"
  },
  {
   "cell_type": "code",
   "execution_count": 255,
   "outputs": [
    {
     "data": {
      "text/plain": "product\nwater                     729060\nirrigation                  7585\nmultifamily                 1998\nhydrant                      940\nflorence_wholesale            12\nliberty_hill_wholesale        10\nrv_park                        4\nName: count, dtype: int64"
     },
     "execution_count": 255,
     "metadata": {},
     "output_type": "execute_result"
    }
   ],
   "source": [
    "prod_dicts = [\n",
    "    {'Water': 'water'}\n",
    "    , {'Irrigation': 'irrigation'}\n",
    "    , {'Multi-family water': 'multifamily'}\n",
    "    , {'Multi_Family_Water': 'multifamily'}\n",
    "    , {'LH wholesale': 'liberty_hill_wholesale'}\n",
    "    , {'LH_Wholesale': 'liberty_hill_wholesale'}\n",
    "    , {'Florence wholesale': 'florence_wholesale'}\n",
    "    , {'Florence_Wholesale': 'florence_wholesale'}\n",
    "    , {'RV_Park_Water': 'rv_park'}\n",
    "    , {'Hydrant': 'hydrant'}\n",
    "]\n",
    "for element in prod_dicts:\n",
    "    for key, value in element.items():\n",
    "        df['product'] = df['product'].replace(key, value)\n",
    "        \n",
    "df['product'].value_counts()"
   ],
   "metadata": {
    "collapsed": false,
    "ExecuteTime": {
     "end_time": "2024-02-12T19:07:43.898212400Z",
     "start_time": "2024-02-12T19:07:43.522951100Z"
    }
   },
   "id": "1e0e937c7c010cb1"
  },
  {
   "cell_type": "code",
   "execution_count": 256,
   "outputs": [
    {
     "data": {
      "text/plain": "prem_type\nSingle family home    451186\nSingle family         243938\nNon-residential        24501\nDuplex                  7797\nFourplex                4563\nComplex unit            2442\nComplex                 2035\nComplex Unit            1284\nTo be determined         862\nTriplex                   63\nName: count, dtype: int64"
     },
     "execution_count": 256,
     "metadata": {},
     "output_type": "execute_result"
    }
   ],
   "source": [
    "df.prem_type.value_counts()"
   ],
   "metadata": {
    "collapsed": false,
    "ExecuteTime": {
     "end_time": "2024-02-12T19:07:44.209448200Z",
     "start_time": "2024-02-12T19:07:44.146654200Z"
    }
   },
   "id": "8ca96e3592965cf5"
  },
  {
   "cell_type": "code",
   "execution_count": 257,
   "outputs": [
    {
     "data": {
      "text/plain": "prem_type\nsingle_family      695124\nnon_residential     24501\nduplex               7797\nfourplex             4563\ncomplex_unit         3726\ncomplex              2035\ntbd                   862\ntriplex                63\nName: count, dtype: int64"
     },
     "execution_count": 257,
     "metadata": {},
     "output_type": "execute_result"
    }
   ],
   "source": [
    "prem_dicts = [\n",
    "    {'Single family home': 'single_family'}\n",
    "    , {'Single family': 'single_family'}\n",
    "    , {'Complex unit': 'complex_unit'}\n",
    "    , {'Complex Unit': 'complex_unit'}\n",
    "    , {'Non-residential': 'non_residential'}\n",
    "    , {'Duplex': 'duplex'}\n",
    "    , {'Triplex': 'triplex'}\n",
    "    , {'Fourplex': 'fourplex'}\n",
    "    , {'To be determined': 'tbd'}\n",
    "    , {'Complex': 'complex'}\n",
    "]\n",
    "for element in prem_dicts:\n",
    "    for key, value in element.items():\n",
    "        df['prem_type'] = df['prem_type'].replace(key, value)\n",
    "        \n",
    "df['prem_type'].value_counts()"
   ],
   "metadata": {
    "collapsed": false,
    "ExecuteTime": {
     "end_time": "2024-02-12T19:07:45.756006300Z",
     "start_time": "2024-02-12T19:07:45.070986200Z"
    }
   },
   "id": "df59f0fbd764ebcb"
  },
  {
   "cell_type": "code",
   "execution_count": 242,
   "outputs": [
    {
     "data": {
      "text/plain": "customer_group\nResidential           711434\nCommercial             24994\nCity of Georgetown      1806\nGovernment               601\nSchool                   437\nIndustrial               337\nName: count, dtype: int64"
     },
     "execution_count": 242,
     "metadata": {},
     "output_type": "execute_result"
    }
   ],
   "source": [
    "df['customer_group'].value_counts()"
   ],
   "metadata": {
    "collapsed": false,
    "ExecuteTime": {
     "end_time": "2024-02-12T19:02:00.508706Z",
     "start_time": "2024-02-12T19:02:00.471081200Z"
    }
   },
   "id": "e6e334bb785b77c9"
  },
  {
   "cell_type": "code",
   "execution_count": 259,
   "outputs": [
    {
     "data": {
      "text/plain": "customer_group\nresidential           711434\ncommercial             24994\ncity_of_georgetown      1806\ngovernment               601\nschool                   437\nindustrial               337\nName: count, dtype: int64"
     },
     "execution_count": 259,
     "metadata": {},
     "output_type": "execute_result"
    }
   ],
   "source": [
    "df['customer_group'] = df['customer_group'].str.lower()\n",
    "df['customer_group'].value_counts()"
   ],
   "metadata": {
    "collapsed": false,
    "ExecuteTime": {
     "end_time": "2024-02-12T19:09:05.450972800Z",
     "start_time": "2024-02-12T19:09:05.310925700Z"
    }
   },
   "id": "370368414fca40f0"
  },
  {
   "cell_type": "code",
   "execution_count": 260,
   "outputs": [
    {
     "data": {
      "text/plain": "customer_group\nresidential           711434\ncommercial             24994\ncity_of_georgetown      1806\ngovernment               601\nschool                   437\nindustrial               337\nName: count, dtype: int64"
     },
     "execution_count": 260,
     "metadata": {},
     "output_type": "execute_result"
    }
   ],
   "source": [
    "df['customer_group'] = df['customer_group'].str.replace(' ', '_')\n",
    "df['customer_group'].value_counts()"
   ],
   "metadata": {
    "collapsed": false,
    "ExecuteTime": {
     "end_time": "2024-02-12T19:09:07.830630Z",
     "start_time": "2024-02-12T19:09:07.670372100Z"
    }
   },
   "id": "3e386fe69154be4a"
  },
  {
   "cell_type": "code",
   "execution_count": 261,
   "outputs": [
    {
     "data": {
      "text/plain": "serv_county\nwilliamson_county    475677\nwilliamson           260785\nbell                   2902\nburnet                  228\nName: count, dtype: int64"
     },
     "execution_count": 261,
     "metadata": {},
     "output_type": "execute_result"
    }
   ],
   "source": [
    "df['serv_county'] = df['serv_county'].str.lower()\n",
    "df['serv_county'] = df['serv_county'].str.replace(' ', '_')\n",
    "df['serv_county'].value_counts()"
   ],
   "metadata": {
    "collapsed": false,
    "ExecuteTime": {
     "end_time": "2024-02-12T19:10:08.012692Z",
     "start_time": "2024-02-12T19:10:07.541710900Z"
    }
   },
   "id": "325288c17d86a157"
  },
  {
   "cell_type": "code",
   "execution_count": 262,
   "outputs": [
    {
     "data": {
      "text/plain": "serv_county\nwilliamson    736462\nbell            2902\nburnet           228\nName: count, dtype: int64"
     },
     "execution_count": 262,
     "metadata": {},
     "output_type": "execute_result"
    }
   ],
   "source": [
    "df['serv_county'] = df['serv_county'].replace('williamson_county', 'williamson')\n",
    "df['serv_county'].value_counts()"
   ],
   "metadata": {
    "collapsed": false,
    "ExecuteTime": {
     "end_time": "2024-02-12T19:11:16.271530800Z",
     "start_time": "2024-02-12T19:11:16.154516100Z"
    }
   },
   "id": "82e4973edd46cb11"
  },
  {
   "cell_type": "code",
   "execution_count": 265,
   "outputs": [
    {
     "name": "stdout",
     "output_type": "stream",
     "text": [
      "<class 'pandas.core.frame.DataFrame'>\n",
      "Index: 739618 entries, 0 to 262006\n",
      "Data columns (total 7 columns):\n",
      " #   Column          Non-Null Count   Dtype         \n",
      "---  ------          --------------   -----         \n",
      " 0   doc_date        739618 non-null  datetime64[ns]\n",
      " 1   contract        739618 non-null  object        \n",
      " 2   product         739609 non-null  object        \n",
      " 3   prem_type       738671 non-null  object        \n",
      " 4   customer_group  739609 non-null  object        \n",
      " 5   serv_county     739592 non-null  object        \n",
      " 6   kgal            739618 non-null  object        \n",
      "dtypes: datetime64[ns](1), object(6)\n",
      "memory usage: 45.1+ MB\n"
     ]
    }
   ],
   "source": [
    "df.info()"
   ],
   "metadata": {
    "collapsed": false,
    "ExecuteTime": {
     "end_time": "2024-02-12T19:12:16.404164700Z",
     "start_time": "2024-02-12T19:12:16.277588300Z"
    }
   },
   "id": "d1c89d1ce177dfed"
  },
  {
   "cell_type": "markdown",
   "source": [
    "### Defining the derived_class function"
   ],
   "metadata": {
    "collapsed": false
   },
   "id": "a61de521b9627be7"
  },
  {
   "cell_type": "code",
   "execution_count": 310,
   "outputs": [],
   "source": [
    "def assign_derived_class(row):\n",
    "    if (row['prem_type'] in ['single_family', 'tbd'] \n",
    "        and row['product'] in ['irrigation', 'water'] \n",
    "        and row['customer_group'] == 'residential'):\n",
    "        return 'single_family'\n",
    "    elif ((row['prem_type'] in ['complex', 'complex_unit'] \n",
    "           and row['product'] in ['multifamily', 'water'] \n",
    "           and row['customer_group'] in ['commercial', 'residential'])\n",
    "          or (row['prem_type'] in ['duplex', 'triplex', 'fourplex', 'single_family'] \n",
    "              and row['product'] in ['multifamily', 'water'] \n",
    "              and row['customer_group'] == 'residential')\n",
    "          or (row['prem_type'] == 'non_residential' \n",
    "              and row['product'] == 'rv_park')):\n",
    "        return 'multifamily'\n",
    "    elif ((row['prem_type'] in ['single_family', 'tbd'] \n",
    "           and row['product'] in ['irrigation', 'water'] \n",
    "           and row['customer_group'] in ['commercial', 'industrial'])\n",
    "          or (row['prem_type'] in ['complex', 'complex_unit'] \n",
    "              and row['product'] == 'irrigation')\n",
    "          or (row['prem_type'] == 'non_residential' \n",
    "              and row['product'] in ['multifamily', 'water', 'irrigation'] \n",
    "              and row['customer_group'] in ['commercial', 'residential'])\n",
    "          or (row['product'] == 'hydrant')):\n",
    "        return 'commercial'\n",
    "    elif (row['prem_type'] == 'non_residential' \n",
    "          and row['product'] in ['irrigation', 'water'] \n",
    "          and row['customer_group'] == 'industrial'):\n",
    "        return 'industrial'\n",
    "    elif (row['product'] not in ['georgetown_cc', 'non_potable_water'] \n",
    "          and row['customer_group'] in ['government', 'city_of_georgetown', 'school']):\n",
    "        return 'institutional'\n",
    "    elif (row['prem_type'] == 'non_residential' \n",
    "          and row['product'] in ['georgetown_cc', 'non_potable_water'] \n",
    "          and row['customer_group'] in ['commercial', 'city_of_georgetown']):\n",
    "        return 'reuse'\n",
    "    else:\n",
    "        return 'unknown'"
   ],
   "metadata": {
    "collapsed": false,
    "ExecuteTime": {
     "end_time": "2024-02-12T19:47:46.543882300Z",
     "start_time": "2024-02-12T19:47:46.506292700Z"
    }
   },
   "id": "b398318e6984ac65"
  },
  {
   "cell_type": "code",
   "execution_count": 275,
   "outputs": [
    {
     "data": {
      "text/plain": "         doc_date    contract     product        prem_type customer_group  \\\n113696 2023-11-28  5637233725       water    single_family    residential   \n468635 2023-01-05  5637661012       water    single_family    residential   \n43871  2023-09-04  5637598092       water    single_family    residential   \n191000 2023-05-31  5637289690       water    single_family    residential   \n84422  2023-02-28  5637181587  irrigation  non_residential     commercial   \n56441  2023-10-30  5637377321       water    single_family    residential   \n135299 2023-12-06  5637462512       water    single_family    residential   \n109721 2023-06-12  5637333237       water    single_family    residential   \n179217 2023-03-30  5637762336       water    single_family    residential   \n375610 2023-03-15  5637358362       water    single_family    residential   \n\n       serv_county      kgal  derived_class  \n113696  williamson  9.000000  single_family  \n468635  williamson       4.0  single_family  \n43871   williamson       1.0  single_family  \n191000  williamson       5.0  single_family  \n84422   williamson     206.0     commercial  \n56441   williamson  2.000000  single_family  \n135299  williamson  1.000000  single_family  \n109721  williamson      16.0  single_family  \n179217  williamson      16.0  single_family  \n375610  williamson       1.0  single_family  ",
      "text/html": "<div>\n<style scoped>\n    .dataframe tbody tr th:only-of-type {\n        vertical-align: middle;\n    }\n\n    .dataframe tbody tr th {\n        vertical-align: top;\n    }\n\n    .dataframe thead th {\n        text-align: right;\n    }\n</style>\n<table border=\"1\" class=\"dataframe\">\n  <thead>\n    <tr style=\"text-align: right;\">\n      <th></th>\n      <th>doc_date</th>\n      <th>contract</th>\n      <th>product</th>\n      <th>prem_type</th>\n      <th>customer_group</th>\n      <th>serv_county</th>\n      <th>kgal</th>\n      <th>derived_class</th>\n    </tr>\n  </thead>\n  <tbody>\n    <tr>\n      <th>113696</th>\n      <td>2023-11-28</td>\n      <td>5637233725</td>\n      <td>water</td>\n      <td>single_family</td>\n      <td>residential</td>\n      <td>williamson</td>\n      <td>9.000000</td>\n      <td>single_family</td>\n    </tr>\n    <tr>\n      <th>468635</th>\n      <td>2023-01-05</td>\n      <td>5637661012</td>\n      <td>water</td>\n      <td>single_family</td>\n      <td>residential</td>\n      <td>williamson</td>\n      <td>4.0</td>\n      <td>single_family</td>\n    </tr>\n    <tr>\n      <th>43871</th>\n      <td>2023-09-04</td>\n      <td>5637598092</td>\n      <td>water</td>\n      <td>single_family</td>\n      <td>residential</td>\n      <td>williamson</td>\n      <td>1.0</td>\n      <td>single_family</td>\n    </tr>\n    <tr>\n      <th>191000</th>\n      <td>2023-05-31</td>\n      <td>5637289690</td>\n      <td>water</td>\n      <td>single_family</td>\n      <td>residential</td>\n      <td>williamson</td>\n      <td>5.0</td>\n      <td>single_family</td>\n    </tr>\n    <tr>\n      <th>84422</th>\n      <td>2023-02-28</td>\n      <td>5637181587</td>\n      <td>irrigation</td>\n      <td>non_residential</td>\n      <td>commercial</td>\n      <td>williamson</td>\n      <td>206.0</td>\n      <td>commercial</td>\n    </tr>\n    <tr>\n      <th>56441</th>\n      <td>2023-10-30</td>\n      <td>5637377321</td>\n      <td>water</td>\n      <td>single_family</td>\n      <td>residential</td>\n      <td>williamson</td>\n      <td>2.000000</td>\n      <td>single_family</td>\n    </tr>\n    <tr>\n      <th>135299</th>\n      <td>2023-12-06</td>\n      <td>5637462512</td>\n      <td>water</td>\n      <td>single_family</td>\n      <td>residential</td>\n      <td>williamson</td>\n      <td>1.000000</td>\n      <td>single_family</td>\n    </tr>\n    <tr>\n      <th>109721</th>\n      <td>2023-06-12</td>\n      <td>5637333237</td>\n      <td>water</td>\n      <td>single_family</td>\n      <td>residential</td>\n      <td>williamson</td>\n      <td>16.0</td>\n      <td>single_family</td>\n    </tr>\n    <tr>\n      <th>179217</th>\n      <td>2023-03-30</td>\n      <td>5637762336</td>\n      <td>water</td>\n      <td>single_family</td>\n      <td>residential</td>\n      <td>williamson</td>\n      <td>16.0</td>\n      <td>single_family</td>\n    </tr>\n    <tr>\n      <th>375610</th>\n      <td>2023-03-15</td>\n      <td>5637358362</td>\n      <td>water</td>\n      <td>single_family</td>\n      <td>residential</td>\n      <td>williamson</td>\n      <td>1.0</td>\n      <td>single_family</td>\n    </tr>\n  </tbody>\n</table>\n</div>"
     },
     "execution_count": 275,
     "metadata": {},
     "output_type": "execute_result"
    }
   ],
   "source": [
    "test_df = df.sample(10).copy()\n",
    "test_df['derived_class'] = test_df.apply(assign_derived_class, axis=1)\n",
    "test_df"
   ],
   "metadata": {
    "collapsed": false,
    "ExecuteTime": {
     "end_time": "2024-02-12T19:27:06.170162800Z",
     "start_time": "2024-02-12T19:27:06.145379600Z"
    }
   },
   "id": "e092d641928b171"
  },
  {
   "cell_type": "code",
   "execution_count": 311,
   "outputs": [
    {
     "data": {
      "text/plain": "    doc_date    contract product      prem_type customer_group serv_county  \\\n0 2023-05-31  5637634178   water  single_family    residential  williamson   \n1 2023-05-31  5637875138   water  single_family    residential  williamson   \n2 2023-01-12  5637740937   water  single_family    residential  williamson   \n3 2023-06-02  5637768335   water  single_family    residential  williamson   \n4 2023-01-12  5637720913   water  single_family    residential  williamson   \n\n   kgal  derived_class  \n0   4.0  single_family  \n1   2.0  single_family  \n2   2.0  single_family  \n3   2.0  single_family  \n4   2.0  single_family  ",
      "text/html": "<div>\n<style scoped>\n    .dataframe tbody tr th:only-of-type {\n        vertical-align: middle;\n    }\n\n    .dataframe tbody tr th {\n        vertical-align: top;\n    }\n\n    .dataframe thead th {\n        text-align: right;\n    }\n</style>\n<table border=\"1\" class=\"dataframe\">\n  <thead>\n    <tr style=\"text-align: right;\">\n      <th></th>\n      <th>doc_date</th>\n      <th>contract</th>\n      <th>product</th>\n      <th>prem_type</th>\n      <th>customer_group</th>\n      <th>serv_county</th>\n      <th>kgal</th>\n      <th>derived_class</th>\n    </tr>\n  </thead>\n  <tbody>\n    <tr>\n      <th>0</th>\n      <td>2023-05-31</td>\n      <td>5637634178</td>\n      <td>water</td>\n      <td>single_family</td>\n      <td>residential</td>\n      <td>williamson</td>\n      <td>4.0</td>\n      <td>single_family</td>\n    </tr>\n    <tr>\n      <th>1</th>\n      <td>2023-05-31</td>\n      <td>5637875138</td>\n      <td>water</td>\n      <td>single_family</td>\n      <td>residential</td>\n      <td>williamson</td>\n      <td>2.0</td>\n      <td>single_family</td>\n    </tr>\n    <tr>\n      <th>2</th>\n      <td>2023-01-12</td>\n      <td>5637740937</td>\n      <td>water</td>\n      <td>single_family</td>\n      <td>residential</td>\n      <td>williamson</td>\n      <td>2.0</td>\n      <td>single_family</td>\n    </tr>\n    <tr>\n      <th>3</th>\n      <td>2023-06-02</td>\n      <td>5637768335</td>\n      <td>water</td>\n      <td>single_family</td>\n      <td>residential</td>\n      <td>williamson</td>\n      <td>2.0</td>\n      <td>single_family</td>\n    </tr>\n    <tr>\n      <th>4</th>\n      <td>2023-01-12</td>\n      <td>5637720913</td>\n      <td>water</td>\n      <td>single_family</td>\n      <td>residential</td>\n      <td>williamson</td>\n      <td>2.0</td>\n      <td>single_family</td>\n    </tr>\n  </tbody>\n</table>\n</div>"
     },
     "execution_count": 311,
     "metadata": {},
     "output_type": "execute_result"
    }
   ],
   "source": [
    "df['derived_class'] = df.apply(assign_derived_class, axis=1)\n",
    "df.head()"
   ],
   "metadata": {
    "collapsed": false,
    "ExecuteTime": {
     "end_time": "2024-02-12T19:47:56.599912500Z",
     "start_time": "2024-02-12T19:47:49.526665Z"
    }
   },
   "id": "f17d645772f52535"
  },
  {
   "cell_type": "code",
   "execution_count": 312,
   "outputs": [
    {
     "data": {
      "text/plain": "         doc_date    contract product prem_type customer_group serv_county  \\\n35731  2023-06-23  5637647415     NaN       NaN            NaN         NaN   \n162182 2023-04-27  5637647415     NaN       NaN            NaN         NaN   \n232299 2023-03-01  5637647415     NaN       NaN            NaN         NaN   \n269383 2023-05-31  5637647415     NaN       NaN            NaN         NaN   \n275274 2023-09-21  5637647415     NaN       NaN            NaN         NaN   \n303943 2023-07-25  5637647415     NaN       NaN            NaN         NaN   \n308582 2023-08-23  5637647415     NaN       NaN            NaN         NaN   \n369300 2023-01-26  5637647415     NaN       NaN            NaN         NaN   \n425282 2023-03-29  5637647415     NaN       NaN            NaN         NaN   \n\n        kgal derived_class  \n35731   11.0       unknown  \n162182   7.0       unknown  \n232299   9.0       unknown  \n269383  11.0       unknown  \n275274   9.0       unknown  \n303943  12.0       unknown  \n308582  13.0       unknown  \n369300  11.0       unknown  \n425282   7.0       unknown  ",
      "text/html": "<div>\n<style scoped>\n    .dataframe tbody tr th:only-of-type {\n        vertical-align: middle;\n    }\n\n    .dataframe tbody tr th {\n        vertical-align: top;\n    }\n\n    .dataframe thead th {\n        text-align: right;\n    }\n</style>\n<table border=\"1\" class=\"dataframe\">\n  <thead>\n    <tr style=\"text-align: right;\">\n      <th></th>\n      <th>doc_date</th>\n      <th>contract</th>\n      <th>product</th>\n      <th>prem_type</th>\n      <th>customer_group</th>\n      <th>serv_county</th>\n      <th>kgal</th>\n      <th>derived_class</th>\n    </tr>\n  </thead>\n  <tbody>\n    <tr>\n      <th>35731</th>\n      <td>2023-06-23</td>\n      <td>5637647415</td>\n      <td>NaN</td>\n      <td>NaN</td>\n      <td>NaN</td>\n      <td>NaN</td>\n      <td>11.0</td>\n      <td>unknown</td>\n    </tr>\n    <tr>\n      <th>162182</th>\n      <td>2023-04-27</td>\n      <td>5637647415</td>\n      <td>NaN</td>\n      <td>NaN</td>\n      <td>NaN</td>\n      <td>NaN</td>\n      <td>7.0</td>\n      <td>unknown</td>\n    </tr>\n    <tr>\n      <th>232299</th>\n      <td>2023-03-01</td>\n      <td>5637647415</td>\n      <td>NaN</td>\n      <td>NaN</td>\n      <td>NaN</td>\n      <td>NaN</td>\n      <td>9.0</td>\n      <td>unknown</td>\n    </tr>\n    <tr>\n      <th>269383</th>\n      <td>2023-05-31</td>\n      <td>5637647415</td>\n      <td>NaN</td>\n      <td>NaN</td>\n      <td>NaN</td>\n      <td>NaN</td>\n      <td>11.0</td>\n      <td>unknown</td>\n    </tr>\n    <tr>\n      <th>275274</th>\n      <td>2023-09-21</td>\n      <td>5637647415</td>\n      <td>NaN</td>\n      <td>NaN</td>\n      <td>NaN</td>\n      <td>NaN</td>\n      <td>9.0</td>\n      <td>unknown</td>\n    </tr>\n    <tr>\n      <th>303943</th>\n      <td>2023-07-25</td>\n      <td>5637647415</td>\n      <td>NaN</td>\n      <td>NaN</td>\n      <td>NaN</td>\n      <td>NaN</td>\n      <td>12.0</td>\n      <td>unknown</td>\n    </tr>\n    <tr>\n      <th>308582</th>\n      <td>2023-08-23</td>\n      <td>5637647415</td>\n      <td>NaN</td>\n      <td>NaN</td>\n      <td>NaN</td>\n      <td>NaN</td>\n      <td>13.0</td>\n      <td>unknown</td>\n    </tr>\n    <tr>\n      <th>369300</th>\n      <td>2023-01-26</td>\n      <td>5637647415</td>\n      <td>NaN</td>\n      <td>NaN</td>\n      <td>NaN</td>\n      <td>NaN</td>\n      <td>11.0</td>\n      <td>unknown</td>\n    </tr>\n    <tr>\n      <th>425282</th>\n      <td>2023-03-29</td>\n      <td>5637647415</td>\n      <td>NaN</td>\n      <td>NaN</td>\n      <td>NaN</td>\n      <td>NaN</td>\n      <td>7.0</td>\n      <td>unknown</td>\n    </tr>\n  </tbody>\n</table>\n</div>"
     },
     "execution_count": 312,
     "metadata": {},
     "output_type": "execute_result"
    }
   ],
   "source": [
    "df.loc[(df['derived_class'] == 'unknown')]"
   ],
   "metadata": {
    "collapsed": false,
    "ExecuteTime": {
     "end_time": "2024-02-12T19:48:00.999190700Z",
     "start_time": "2024-02-12T19:48:00.893781800Z"
    }
   },
   "id": "629fcf4346fc82a3"
  },
  {
   "cell_type": "code",
   "execution_count": 313,
   "outputs": [],
   "source": [
    "df.kgal = pd.to_numeric(df.kgal)"
   ],
   "metadata": {
    "collapsed": false,
    "ExecuteTime": {
     "end_time": "2024-02-12T19:48:06.454377800Z",
     "start_time": "2024-02-12T19:48:06.398774200Z"
    }
   },
   "id": "3befa8a067c9c7e7"
  },
  {
   "cell_type": "code",
   "execution_count": 317,
   "outputs": [],
   "source": [
    "df.groupby([df['doc_date'].dt.year, 'derived_class', 'serv_county'])['kgal'].sum().reset_index().to_csv('../data/processed/kgal-by-class.csv')"
   ],
   "metadata": {
    "collapsed": false,
    "ExecuteTime": {
     "end_time": "2024-02-12T19:50:02.306419600Z",
     "start_time": "2024-02-12T19:50:02.128287300Z"
    }
   },
   "id": "abe88ff30c4928bf"
  }
 ],
 "metadata": {
  "kernelspec": {
   "display_name": "Python 3",
   "language": "python",
   "name": "python3"
  },
  "language_info": {
   "codemirror_mode": {
    "name": "ipython",
    "version": 2
   },
   "file_extension": ".py",
   "mimetype": "text/x-python",
   "name": "python",
   "nbconvert_exporter": "python",
   "pygments_lexer": "ipython2",
   "version": "2.7.6"
  }
 },
 "nbformat": 4,
 "nbformat_minor": 5
}
